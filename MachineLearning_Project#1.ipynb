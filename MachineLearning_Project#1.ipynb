{
 "cells": [
  {
   "cell_type": "markdown",
   "id": "d2bd60b8",
   "metadata": {},
   "source": [
    "### Amazon Stock Prediction\n",
    "\n",
    "Name : Priyanka Nigade <br>\n"
   ]
  },
  {
   "cell_type": "code",
   "execution_count": 1,
   "id": "50ce6e80",
   "metadata": {},
   "outputs": [],
   "source": [
    "import pandas as pd\n",
    "import numpy as np\n",
    "import matplotlib.pyplot as plt\n",
    "import seaborn as sns\n",
    "import yfinance as yf\n",
    "\n",
    "# calculate cross validation score and under the roc curve socring\n",
    "from sklearn.model_selection import train_test_split\n",
    "from sklearn import metrics\n",
    "from sklearn.metrics import confusion_matrix, roc_curve, roc_auc_score, classification_report\n",
    "from sklearn.model_selection import cross_val_score \n",
    "from sklearn.neighbors import KNeighborsClassifier\n",
    "from sklearn.ensemble import RandomForestClassifier, GradientBoostingClassifier\n",
    "from sklearn.svm import SVC\n",
    "from sklearn.model_selection import RandomizedSearchCV\n",
    "from sklearn.model_selection import GridSearchCV\n",
    "from xgboost import XGBClassifier"
   ]
  },
  {
   "cell_type": "code",
   "execution_count": 2,
   "id": "8f392525",
   "metadata": {},
   "outputs": [],
   "source": [
    "# install yfinance and GOOGLEFINANCE\n",
    "\n",
    "#pip install yfinance\n",
    "#pip install GOOGLEFINANCE"
   ]
  },
  {
   "cell_type": "markdown",
   "id": "d2cefe3a",
   "metadata": {},
   "source": [
    "### Load Data "
   ]
  },
  {
   "cell_type": "code",
   "execution_count": 3,
   "id": "aaa88837",
   "metadata": {},
   "outputs": [
    {
     "name": "stdout",
     "output_type": "stream",
     "text": [
      "[*********************100%***********************]  1 of 1 completed\n"
     ]
    }
   ],
   "source": [
    "# Loaded stock data of amazon using yfinance API\n",
    "\n",
    "amazon_data = yf.download(\"AMZN\", start=\"2010-01-01\", end=\"2022-01-15\")\n"
   ]
  },
  {
   "cell_type": "code",
   "execution_count": 4,
   "id": "b35c3024",
   "metadata": {},
   "outputs": [
    {
     "data": {
      "text/plain": [
       "(3031, 6)"
      ]
     },
     "execution_count": 4,
     "metadata": {},
     "output_type": "execute_result"
    }
   ],
   "source": [
    "amazon_data.shape"
   ]
  },
  {
   "cell_type": "code",
   "execution_count": 5,
   "id": "02cec44b",
   "metadata": {},
   "outputs": [
    {
     "data": {
      "text/html": [
       "<div>\n",
       "<style scoped>\n",
       "    .dataframe tbody tr th:only-of-type {\n",
       "        vertical-align: middle;\n",
       "    }\n",
       "\n",
       "    .dataframe tbody tr th {\n",
       "        vertical-align: top;\n",
       "    }\n",
       "\n",
       "    .dataframe thead th {\n",
       "        text-align: right;\n",
       "    }\n",
       "</style>\n",
       "<table border=\"1\" class=\"dataframe\">\n",
       "  <thead>\n",
       "    <tr style=\"text-align: right;\">\n",
       "      <th></th>\n",
       "      <th>Open</th>\n",
       "      <th>High</th>\n",
       "      <th>Low</th>\n",
       "      <th>Close</th>\n",
       "      <th>Adj Close</th>\n",
       "      <th>Volume</th>\n",
       "    </tr>\n",
       "    <tr>\n",
       "      <th>Date</th>\n",
       "      <th></th>\n",
       "      <th></th>\n",
       "      <th></th>\n",
       "      <th></th>\n",
       "      <th></th>\n",
       "      <th></th>\n",
       "    </tr>\n",
       "  </thead>\n",
       "  <tbody>\n",
       "    <tr>\n",
       "      <th>2010-01-04</th>\n",
       "      <td>136.250000</td>\n",
       "      <td>136.610001</td>\n",
       "      <td>133.139999</td>\n",
       "      <td>133.899994</td>\n",
       "      <td>133.899994</td>\n",
       "      <td>7599900</td>\n",
       "    </tr>\n",
       "    <tr>\n",
       "      <th>2010-01-05</th>\n",
       "      <td>133.429993</td>\n",
       "      <td>135.479996</td>\n",
       "      <td>131.809998</td>\n",
       "      <td>134.690002</td>\n",
       "      <td>134.690002</td>\n",
       "      <td>8851900</td>\n",
       "    </tr>\n",
       "    <tr>\n",
       "      <th>2010-01-06</th>\n",
       "      <td>134.600006</td>\n",
       "      <td>134.729996</td>\n",
       "      <td>131.649994</td>\n",
       "      <td>132.250000</td>\n",
       "      <td>132.250000</td>\n",
       "      <td>7178800</td>\n",
       "    </tr>\n",
       "    <tr>\n",
       "      <th>2010-01-07</th>\n",
       "      <td>132.009995</td>\n",
       "      <td>132.320007</td>\n",
       "      <td>128.800003</td>\n",
       "      <td>130.000000</td>\n",
       "      <td>130.000000</td>\n",
       "      <td>11030200</td>\n",
       "    </tr>\n",
       "    <tr>\n",
       "      <th>2010-01-08</th>\n",
       "      <td>130.559998</td>\n",
       "      <td>133.679993</td>\n",
       "      <td>129.029999</td>\n",
       "      <td>133.520004</td>\n",
       "      <td>133.520004</td>\n",
       "      <td>9830500</td>\n",
       "    </tr>\n",
       "  </tbody>\n",
       "</table>\n",
       "</div>"
      ],
      "text/plain": [
       "                  Open        High         Low       Close   Adj Close  \\\n",
       "Date                                                                     \n",
       "2010-01-04  136.250000  136.610001  133.139999  133.899994  133.899994   \n",
       "2010-01-05  133.429993  135.479996  131.809998  134.690002  134.690002   \n",
       "2010-01-06  134.600006  134.729996  131.649994  132.250000  132.250000   \n",
       "2010-01-07  132.009995  132.320007  128.800003  130.000000  130.000000   \n",
       "2010-01-08  130.559998  133.679993  129.029999  133.520004  133.520004   \n",
       "\n",
       "              Volume  \n",
       "Date                  \n",
       "2010-01-04   7599900  \n",
       "2010-01-05   8851900  \n",
       "2010-01-06   7178800  \n",
       "2010-01-07  11030200  \n",
       "2010-01-08   9830500  "
      ]
     },
     "execution_count": 5,
     "metadata": {},
     "output_type": "execute_result"
    }
   ],
   "source": [
    "amazon_data.head()"
   ]
  },
  {
   "cell_type": "markdown",
   "id": "d2762ac1",
   "metadata": {},
   "source": [
    "* Open/Close — Captures the opening/closing price of the stock <br>\n",
    "* Adj_Open/Adj_Close — An adjusted opening/closing price is a stock’s price on any given day of trading that has been   revised to include any dividend distributions, stock splits, and other corporate actions that occurred at any time     before the next day’s open. <br>\n",
    "* Volume — It records the number of shares that are being traded on any given day of trading.<br>\n",
    "* High/Low — It tracks the highest and the lowest price of the stock during a particular day of trading.\n"
   ]
  },
  {
   "cell_type": "markdown",
   "id": "481c3a92",
   "metadata": {},
   "source": [
    "### Exploratory Data Analysis"
   ]
  },
  {
   "cell_type": "code",
   "execution_count": 6,
   "id": "7d0be55b",
   "metadata": {},
   "outputs": [
    {
     "name": "stdout",
     "output_type": "stream",
     "text": [
      "<class 'pandas.core.frame.DataFrame'>\n",
      "DatetimeIndex: 3031 entries, 2010-01-04 to 2022-01-14\n",
      "Data columns (total 6 columns):\n",
      " #   Column     Non-Null Count  Dtype  \n",
      "---  ------     --------------  -----  \n",
      " 0   Open       3031 non-null   float64\n",
      " 1   High       3031 non-null   float64\n",
      " 2   Low        3031 non-null   float64\n",
      " 3   Close      3031 non-null   float64\n",
      " 4   Adj Close  3031 non-null   float64\n",
      " 5   Volume     3031 non-null   int64  \n",
      "dtypes: float64(5), int64(1)\n",
      "memory usage: 165.8 KB\n"
     ]
    }
   ],
   "source": [
    "# check for data type and missing values\n",
    "\n",
    "amazon_data.info()"
   ]
  },
  {
   "cell_type": "code",
   "execution_count": 7,
   "id": "e2933928",
   "metadata": {},
   "outputs": [
    {
     "data": {
      "text/plain": [
       "0"
      ]
     },
     "execution_count": 7,
     "metadata": {},
     "output_type": "execute_result"
    }
   ],
   "source": [
    "amazon_data.duplicated().sum()"
   ]
  },
  {
   "cell_type": "code",
   "execution_count": 8,
   "id": "6fd48715",
   "metadata": {},
   "outputs": [
    {
     "data": {
      "text/plain": [
       "Index(['Open', 'High', 'Low', 'Close', 'Adj Close', 'Volume'], dtype='object')"
      ]
     },
     "execution_count": 8,
     "metadata": {},
     "output_type": "execute_result"
    }
   ],
   "source": [
    "features = amazon_data.columns\n",
    "features"
   ]
  },
  {
   "cell_type": "markdown",
   "id": "540d2f83",
   "metadata": {},
   "source": [
    "\n",
    "#sns.boxplot(x=amazon_data['Open'])<br>\n",
    "**** Just removing outliers from the stock time series is generally a bad idea: these are the days with the biggest profits and losses\n",
    "    "
   ]
  },
  {
   "cell_type": "code",
   "execution_count": 9,
   "id": "9296787a",
   "metadata": {},
   "outputs": [],
   "source": [
    "# Normalize the data "
   ]
  },
  {
   "cell_type": "code",
   "execution_count": 10,
   "id": "269d0b80",
   "metadata": {},
   "outputs": [],
   "source": [
    "# find the min max of the column\n",
    "def min_max_scaling(series):\n",
    "    return (series - series.min()) / (series.max() - series.min())"
   ]
  },
  {
   "cell_type": "code",
   "execution_count": 11,
   "id": "f6275172",
   "metadata": {},
   "outputs": [
    {
     "data": {
      "text/html": [
       "<div>\n",
       "<style scoped>\n",
       "    .dataframe tbody tr th:only-of-type {\n",
       "        vertical-align: middle;\n",
       "    }\n",
       "\n",
       "    .dataframe tbody tr th {\n",
       "        vertical-align: top;\n",
       "    }\n",
       "\n",
       "    .dataframe thead th {\n",
       "        text-align: right;\n",
       "    }\n",
       "</style>\n",
       "<table border=\"1\" class=\"dataframe\">\n",
       "  <thead>\n",
       "    <tr style=\"text-align: right;\">\n",
       "      <th></th>\n",
       "      <th>Open</th>\n",
       "      <th>High</th>\n",
       "      <th>Low</th>\n",
       "      <th>Close</th>\n",
       "      <th>Adj Close</th>\n",
       "      <th>Volume</th>\n",
       "    </tr>\n",
       "    <tr>\n",
       "      <th>Date</th>\n",
       "      <th></th>\n",
       "      <th></th>\n",
       "      <th></th>\n",
       "      <th></th>\n",
       "      <th></th>\n",
       "      <th></th>\n",
       "    </tr>\n",
       "  </thead>\n",
       "  <tbody>\n",
       "    <tr>\n",
       "      <th>2010-01-04</th>\n",
       "      <td>136.250000</td>\n",
       "      <td>136.610001</td>\n",
       "      <td>133.139999</td>\n",
       "      <td>133.899994</td>\n",
       "      <td>133.899994</td>\n",
       "      <td>7599900</td>\n",
       "    </tr>\n",
       "    <tr>\n",
       "      <th>2010-01-05</th>\n",
       "      <td>133.429993</td>\n",
       "      <td>135.479996</td>\n",
       "      <td>131.809998</td>\n",
       "      <td>134.690002</td>\n",
       "      <td>134.690002</td>\n",
       "      <td>8851900</td>\n",
       "    </tr>\n",
       "    <tr>\n",
       "      <th>2010-01-06</th>\n",
       "      <td>134.600006</td>\n",
       "      <td>134.729996</td>\n",
       "      <td>131.649994</td>\n",
       "      <td>132.250000</td>\n",
       "      <td>132.250000</td>\n",
       "      <td>7178800</td>\n",
       "    </tr>\n",
       "    <tr>\n",
       "      <th>2010-01-07</th>\n",
       "      <td>132.009995</td>\n",
       "      <td>132.320007</td>\n",
       "      <td>128.800003</td>\n",
       "      <td>130.000000</td>\n",
       "      <td>130.000000</td>\n",
       "      <td>11030200</td>\n",
       "    </tr>\n",
       "    <tr>\n",
       "      <th>2010-01-08</th>\n",
       "      <td>130.559998</td>\n",
       "      <td>133.679993</td>\n",
       "      <td>129.029999</td>\n",
       "      <td>133.520004</td>\n",
       "      <td>133.520004</td>\n",
       "      <td>9830500</td>\n",
       "    </tr>\n",
       "    <tr>\n",
       "      <th>...</th>\n",
       "      <td>...</td>\n",
       "      <td>...</td>\n",
       "      <td>...</td>\n",
       "      <td>...</td>\n",
       "      <td>...</td>\n",
       "      <td>...</td>\n",
       "    </tr>\n",
       "    <tr>\n",
       "      <th>2022-01-10</th>\n",
       "      <td>3211.709961</td>\n",
       "      <td>3233.229980</td>\n",
       "      <td>3126.090088</td>\n",
       "      <td>3229.719971</td>\n",
       "      <td>3229.719971</td>\n",
       "      <td>4389900</td>\n",
       "    </tr>\n",
       "    <tr>\n",
       "      <th>2022-01-11</th>\n",
       "      <td>3230.000000</td>\n",
       "      <td>3327.000000</td>\n",
       "      <td>3214.030029</td>\n",
       "      <td>3307.239990</td>\n",
       "      <td>3307.239990</td>\n",
       "      <td>3140300</td>\n",
       "    </tr>\n",
       "    <tr>\n",
       "      <th>2022-01-12</th>\n",
       "      <td>3331.500000</td>\n",
       "      <td>3337.560059</td>\n",
       "      <td>3288.340088</td>\n",
       "      <td>3304.139893</td>\n",
       "      <td>3304.139893</td>\n",
       "      <td>2501500</td>\n",
       "    </tr>\n",
       "    <tr>\n",
       "      <th>2022-01-13</th>\n",
       "      <td>3305.010010</td>\n",
       "      <td>3324.429932</td>\n",
       "      <td>3221.820068</td>\n",
       "      <td>3224.280029</td>\n",
       "      <td>3224.280029</td>\n",
       "      <td>2609400</td>\n",
       "    </tr>\n",
       "    <tr>\n",
       "      <th>2022-01-14</th>\n",
       "      <td>3203.000000</td>\n",
       "      <td>3245.000000</td>\n",
       "      <td>3196.010010</td>\n",
       "      <td>3242.760010</td>\n",
       "      <td>3242.760010</td>\n",
       "      <td>2298700</td>\n",
       "    </tr>\n",
       "  </tbody>\n",
       "</table>\n",
       "<p>3031 rows × 6 columns</p>\n",
       "</div>"
      ],
      "text/plain": [
       "                   Open         High          Low        Close    Adj Close  \\\n",
       "Date                                                                          \n",
       "2010-01-04   136.250000   136.610001   133.139999   133.899994   133.899994   \n",
       "2010-01-05   133.429993   135.479996   131.809998   134.690002   134.690002   \n",
       "2010-01-06   134.600006   134.729996   131.649994   132.250000   132.250000   \n",
       "2010-01-07   132.009995   132.320007   128.800003   130.000000   130.000000   \n",
       "2010-01-08   130.559998   133.679993   129.029999   133.520004   133.520004   \n",
       "...                 ...          ...          ...          ...          ...   \n",
       "2022-01-10  3211.709961  3233.229980  3126.090088  3229.719971  3229.719971   \n",
       "2022-01-11  3230.000000  3327.000000  3214.030029  3307.239990  3307.239990   \n",
       "2022-01-12  3331.500000  3337.560059  3288.340088  3304.139893  3304.139893   \n",
       "2022-01-13  3305.010010  3324.429932  3221.820068  3224.280029  3224.280029   \n",
       "2022-01-14  3203.000000  3245.000000  3196.010010  3242.760010  3242.760010   \n",
       "\n",
       "              Volume  \n",
       "Date                  \n",
       "2010-01-04   7599900  \n",
       "2010-01-05   8851900  \n",
       "2010-01-06   7178800  \n",
       "2010-01-07  11030200  \n",
       "2010-01-08   9830500  \n",
       "...              ...  \n",
       "2022-01-10   4389900  \n",
       "2022-01-11   3140300  \n",
       "2022-01-12   2501500  \n",
       "2022-01-13   2609400  \n",
       "2022-01-14   2298700  \n",
       "\n",
       "[3031 rows x 6 columns]"
      ]
     },
     "execution_count": 11,
     "metadata": {},
     "output_type": "execute_result"
    }
   ],
   "source": [
    "amazon_data"
   ]
  },
  {
   "cell_type": "markdown",
   "id": "b9ad0ac1",
   "metadata": {},
   "source": [
    "**** Just removing outliers from the stock time series is generally a bad idea: these are the days with the biggest profits and losses\n"
   ]
  },
  {
   "cell_type": "markdown",
   "id": "c5913b1a",
   "metadata": {},
   "source": [
    "### Function for ML Classifier Models:\n",
    "1_ K-Nearest Neighbors (KNN) <br>\n",
    "2_ Random Forest Classifier (RF) <br>\n",
    "3_ Gradient Boosting Classifier (GB) <br>\n",
    "4_ Support Vector Machines (SVMs) <br>\n",
    "5_ XGBoost Classifier\n"
   ]
  },
  {
   "cell_type": "code",
   "execution_count": 12,
   "id": "68e20a9d",
   "metadata": {},
   "outputs": [],
   "source": [
    "score_df = pd.DataFrame(columns = ['Classifier', 'Stategy', 'Accuracy', 'Precision', 'Recall'])"
   ]
  },
  {
   "cell_type": "markdown",
   "id": "287991ad",
   "metadata": {},
   "source": [
    "#### 1. K-Nearest Neighbors (KNN)"
   ]
  },
  {
   "cell_type": "code",
   "execution_count": 13,
   "id": "b4944d84",
   "metadata": {},
   "outputs": [],
   "source": [
    "# created function to get Accuracy, Precision, Recall\n",
    "\n",
    "def model_accuracy_precision_recall(y_test, y_pred):\n",
    "    print(\"\\n\\n===== Accuracy, Precision, Recall =====\")\n",
    "    print(\"Accuracy:\",metrics.accuracy_score(y_test, y_pred))\n",
    "    print(\"Precision:\",metrics.precision_score(y_test, y_pred))\n",
    "    print(\"Recall:\",metrics.recall_score(y_test, y_pred))"
   ]
  },
  {
   "cell_type": "code",
   "execution_count": 14,
   "id": "a2780ae4",
   "metadata": {},
   "outputs": [],
   "source": [
    "def store_modelscore(algo, stategy, y_test, y_pred):\n",
    "    \n",
    "    # Store the scores for comparision  \n",
    "    \n",
    "    acc = metrics.accuracy_score(y_test, y_pred)\n",
    "    pre = metrics.precision_score(y_test, y_pred)\n",
    "    rec = metrics.recall_score(y_test, y_pred)\n",
    "    #print(acc, pre, rec)\n",
    "    score_df = score_df.append({'Classifier' : algo, 'Stategy' : stategy, 'Accuracy' : acc, 'Precision': pre,'Recall': rec}, \n",
    "                ignore_index = True)\n",
    "    \n",
    "    print(score_df)\n"
   ]
  },
  {
   "cell_type": "code",
   "execution_count": null,
   "id": "5d521a78",
   "metadata": {},
   "outputs": [],
   "source": []
  },
  {
   "cell_type": "code",
   "execution_count": 15,
   "id": "3b4d0ce4",
   "metadata": {},
   "outputs": [],
   "source": [
    "def fitdatato_knnmodel(Stategy, X_train, y_train, X_test, y_test):\n",
    "    # Building K-Nearest Neighbors model \n",
    "    knearest = KNeighborsClassifier()\n",
    "\n",
    "    # fit the model with data\n",
    "    knearest.fit(X_train, y_train)\n",
    "    \n",
    "    # Predict the X_test using KNN\n",
    "    y_pred=knearest.predict(X_test)\n",
    "\n",
    "    print(\"\\n\\n===== confusion matrix =====\")\n",
    "    cnf_matrix = metrics.confusion_matrix(y_test, y_pred)\n",
    "    print(cnf_matrix)\n",
    "    \n",
    "    model_accuracy_precision_recall(y_test, y_pred)\n",
    "    print(\"\\n\\n=================== classification report ===================\")\n",
    "    print(classification_report(y_test, y_pred))\n",
    "    #store_modelscore('KNN', Stategy, y_test, y_pred)    \n",
    "    \n",
    "    return y_pred\n"
   ]
  },
  {
   "cell_type": "markdown",
   "id": "023495cb",
   "metadata": {},
   "source": [
    "#### 2. Random Forest Classifier (RF)"
   ]
  },
  {
   "cell_type": "code",
   "execution_count": 16,
   "id": "9118a286",
   "metadata": {},
   "outputs": [],
   "source": [
    "def fitdatato_rfmodel(Stategy, X_train, y_train, X_test, y_test):\n",
    "    # Building Random Forest model \n",
    "    random_forest = RandomForestClassifier()\n",
    "\n",
    "    # fit the model with data\n",
    "    random_forest.fit(X_train, y_train)\n",
    "\n",
    "    # Predict the Xtest data with random_forest  model \n",
    "    y_pred = random_forest.predict(X_test)\n",
    "\n",
    "    print(\"\\n\\n===== confusion matrix =====\")\n",
    "    cnf_matrix = metrics.confusion_matrix(y_test, y_pred)\n",
    "    print(cnf_matrix)\n",
    "    \n",
    "    model_accuracy_precision_recall(y_test, y_pred)\n",
    "    print(\"\\n\\n=================== classification report ===================\")\n",
    "    print(classification_report(y_test, y_pred))\n",
    "    \n",
    "    #store_modelscore('RF', Stategy, y_test, y_pred)  \n",
    "    return y_pred"
   ]
  },
  {
   "cell_type": "markdown",
   "id": "3642cc10",
   "metadata": {},
   "source": [
    "#### 3) Gradient Boosting Classifier (GB)"
   ]
  },
  {
   "cell_type": "code",
   "execution_count": 17,
   "id": "fe435f09",
   "metadata": {},
   "outputs": [],
   "source": [
    "\n",
    "def fitdatato_gradient_boostermodel(Stategy, X_train, y_train, X_test, y_test):\n",
    "    # Building gradient_booster model \n",
    "    gradient_booster = GradientBoostingClassifier()\n",
    "\n",
    "    # fit the model with data\n",
    "    gradient_booster.fit(X_train, y_train)\n",
    "\n",
    "    # Predict the Xtest data with random_forest  model \n",
    "    y_pred = gradient_booster.predict(X_test)\n",
    "\n",
    "    print(\"\\n\\n===== confusion matrix =====\")\n",
    "    cnf_matrix = metrics.confusion_matrix(y_test, y_pred)\n",
    "    print(cnf_matrix)\n",
    "   \n",
    "    model_accuracy_precision_recall(y_test, y_pred)\n",
    "    print(\"\\n\\n=================== classification report ===================\")\n",
    "    print(classification_report(y_test, y_pred))\n",
    "    \n",
    "    #store_modelscore('GB', Stategy, y_test, y_pred)  \n",
    "    return y_pred"
   ]
  },
  {
   "cell_type": "markdown",
   "id": "31793695",
   "metadata": {},
   "source": [
    "#### 4) Support Vector Machines (SVMs)"
   ]
  },
  {
   "cell_type": "code",
   "execution_count": 18,
   "id": "239a7f1a",
   "metadata": {},
   "outputs": [],
   "source": [
    "\n",
    "def fitdatato_svmmodel(Stategy, X_train, y_train, X_test, y_test):\n",
    "    # Building gradient_booster model \n",
    "    gradient_booster = GradientBoostingClassifier()\n",
    "\n",
    "    # fit the model with data\n",
    "    gradient_booster.fit(X_train, y_train)\n",
    "\n",
    "    # Predict the Xtest data with random_forest  model \n",
    "    y_pred = gradient_booster.predict(X_test)\n",
    "\n",
    "    print(\"\\n\\n===== confusion matrix =====\")\n",
    "    cnf_matrix = metrics.confusion_matrix(y_test, y_pred)\n",
    "    print(cnf_matrix)\n",
    "   \n",
    "    model_accuracy_precision_recall(y_test, y_pred)\n",
    "    print(\"\\n\\n=================== classification report ===================\")\n",
    "    print(classification_report(y_test, y_pred))\n",
    "    \n",
    "    #store_modelscore('GB', Stategy, y_test, y_pred)    \n",
    "    return y_pred"
   ]
  },
  {
   "cell_type": "markdown",
   "id": "bfb2f1a9",
   "metadata": {},
   "source": [
    "#### 5) XGBoost Classifier"
   ]
  },
  {
   "cell_type": "code",
   "execution_count": 19,
   "id": "f553af0f",
   "metadata": {},
   "outputs": [],
   "source": [
    "def fitdatato_xgboostmodel(Stategy, X_train, y_train, X_test, y_test):\n",
    "    \n",
    "    #The XG boosting decision tree algorithm.\n",
    "    xcb_model = XGBClassifier()\n",
    "\n",
    "    # fit the model with data\n",
    "    xcb_model.fit(X_train, y_train)\n",
    "\n",
    "    # Predict the Xtest data with XG model \n",
    "    y_pred = xcb_model.predict(X_test)\n",
    "\n",
    "    print(\"\\n\\n===== confusion matrix =====\")\n",
    "    cnf_matrix = metrics.confusion_matrix(y_test, y_pred)\n",
    "    print(cnf_matrix)\n",
    "                           \n",
    "    model_accuracy_precision_recall(y_test, y_pred)\n",
    "    print(\"\\n\\n=================== classification report ===================\")\n",
    "    print(classification_report(y_test, y_pred))\n",
    "    return y_pred"
   ]
  },
  {
   "cell_type": "markdown",
   "id": "2c17f931",
   "metadata": {},
   "source": [
    "###  Strategy-1: \n",
    "If the next trading day's close price is greater than today's close price then,  the signal is ‘buy’,  otherwise ‘sell’."
   ]
  },
  {
   "cell_type": "code",
   "execution_count": 20,
   "id": "a92b9fa3",
   "metadata": {},
   "outputs": [],
   "source": [
    "amazon_data_stat1 = amazon_data.copy()"
   ]
  },
  {
   "cell_type": "code",
   "execution_count": 21,
   "id": "caa913cb",
   "metadata": {},
   "outputs": [],
   "source": [
    "# normalize the values\n",
    "for col in amazon_data_stat1.columns:\n",
    "        amazon_data_stat1[col] = min_max_scaling(amazon_data_stat1[col])"
   ]
  },
  {
   "cell_type": "code",
   "execution_count": 22,
   "id": "30eda5be",
   "metadata": {},
   "outputs": [],
   "source": [
    "# Parameterized XGBoost gives error label value -1\n",
    "\n",
    "amazon_data_stat1['label'] = np.where(amazon_data_stat1['Close'].shift(-1) > amazon_data_stat1['Close'], 1, 0)"
   ]
  },
  {
   "cell_type": "code",
   "execution_count": 23,
   "id": "6feece1c",
   "metadata": {},
   "outputs": [
    {
     "data": {
      "text/plain": [
       "1    1608\n",
       "0    1423\n",
       "Name: label, dtype: int64"
      ]
     },
     "execution_count": 23,
     "metadata": {},
     "output_type": "execute_result"
    }
   ],
   "source": [
    "amazon_data_stat1['label'].value_counts()"
   ]
  },
  {
   "cell_type": "code",
   "execution_count": 24,
   "id": "45838a98",
   "metadata": {},
   "outputs": [],
   "source": [
    "# fig, ax = plt.subplots(figsize=(12,12))\n",
    "# sns.heatmap(amazon_data_stat1.corr(), annot=True, cmap=plt.cm.Greens)\n",
    "# plt.show()"
   ]
  },
  {
   "cell_type": "markdown",
   "id": "92c9f654",
   "metadata": {},
   "source": [
    "### Spilt the data into training and test datasets (use the 80,20 percent ratio.)"
   ]
  },
  {
   "cell_type": "code",
   "execution_count": 25,
   "id": "0a4948a0",
   "metadata": {},
   "outputs": [],
   "source": [
    "label = amazon_data_stat1['label']\n",
    "features_col = amazon_data_stat1.drop(['label'], axis = 1)\n"
   ]
  },
  {
   "cell_type": "code",
   "execution_count": 26,
   "id": "c1976ff3",
   "metadata": {},
   "outputs": [],
   "source": [
    "# Dividing the dataset in train (80%) and test (20%)\n",
    "\n",
    "X_train, X_test, y_train, y_test = train_test_split(features_col, label, test_size = 0.3, random_state = 40)\n"
   ]
  },
  {
   "cell_type": "markdown",
   "id": "7b933d66",
   "metadata": {},
   "source": [
    "#### 1)  KNN"
   ]
  },
  {
   "cell_type": "code",
   "execution_count": 27,
   "id": "852dda49",
   "metadata": {},
   "outputs": [
    {
     "name": "stdout",
     "output_type": "stream",
     "text": [
      "\n",
      "\n",
      "===== confusion matrix =====\n",
      "[[191 237]\n",
      " [208 274]]\n",
      "\n",
      "\n",
      "===== Accuracy, Precision, Recall =====\n",
      "Accuracy: 0.510989010989011\n",
      "Precision: 0.5362035225048923\n",
      "Recall: 0.5684647302904564\n",
      "\n",
      "\n",
      "=================== classification report ===================\n",
      "              precision    recall  f1-score   support\n",
      "\n",
      "           0       0.48      0.45      0.46       428\n",
      "           1       0.54      0.57      0.55       482\n",
      "\n",
      "    accuracy                           0.51       910\n",
      "   macro avg       0.51      0.51      0.51       910\n",
      "weighted avg       0.51      0.51      0.51       910\n",
      "\n"
     ]
    }
   ],
   "source": [
    "y_pred = fitdatato_knnmodel('Stategy1', X_train, y_train, X_test, y_test)\n",
    "\n",
    "\n",
    "acc_knn_stat1 = metrics.accuracy_score(y_test, y_pred)\n",
    "pre_knn_stat1 = metrics.precision_score(y_test, y_pred)\n",
    "rec_knn_stat1 = metrics.recall_score(y_test, y_pred)\n",
    "\n",
    "score_df = score_df.append({'Classifier' : 'KNN', 'Stategy' : 'Stategy 1', 'Accuracy' : acc_knn_stat1, 'Precision': pre_knn_stat1,'Recall': rec_knn_stat1}, \n",
    "                ignore_index = True)\n"
   ]
  },
  {
   "cell_type": "code",
   "execution_count": 28,
   "id": "2548ee46",
   "metadata": {},
   "outputs": [
    {
     "data": {
      "text/html": [
       "<div>\n",
       "<style scoped>\n",
       "    .dataframe tbody tr th:only-of-type {\n",
       "        vertical-align: middle;\n",
       "    }\n",
       "\n",
       "    .dataframe tbody tr th {\n",
       "        vertical-align: top;\n",
       "    }\n",
       "\n",
       "    .dataframe thead th {\n",
       "        text-align: right;\n",
       "    }\n",
       "</style>\n",
       "<table border=\"1\" class=\"dataframe\">\n",
       "  <thead>\n",
       "    <tr style=\"text-align: right;\">\n",
       "      <th></th>\n",
       "      <th>Classifier</th>\n",
       "      <th>Stategy</th>\n",
       "      <th>Accuracy</th>\n",
       "      <th>Precision</th>\n",
       "      <th>Recall</th>\n",
       "    </tr>\n",
       "  </thead>\n",
       "  <tbody>\n",
       "    <tr>\n",
       "      <th>0</th>\n",
       "      <td>KNN</td>\n",
       "      <td>Stategy 1</td>\n",
       "      <td>0.510989</td>\n",
       "      <td>0.536204</td>\n",
       "      <td>0.568465</td>\n",
       "    </tr>\n",
       "  </tbody>\n",
       "</table>\n",
       "</div>"
      ],
      "text/plain": [
       "  Classifier    Stategy  Accuracy  Precision    Recall\n",
       "0        KNN  Stategy 1  0.510989   0.536204  0.568465"
      ]
     },
     "execution_count": 28,
     "metadata": {},
     "output_type": "execute_result"
    }
   ],
   "source": [
    "score_df"
   ]
  },
  {
   "cell_type": "markdown",
   "id": "0ef33eff",
   "metadata": {},
   "source": [
    "#### 2) Random Forest"
   ]
  },
  {
   "cell_type": "code",
   "execution_count": 29,
   "id": "7f33da6d",
   "metadata": {},
   "outputs": [
    {
     "name": "stdout",
     "output_type": "stream",
     "text": [
      "\n",
      "\n",
      "===== confusion matrix =====\n",
      "[[180 248]\n",
      " [205 277]]\n",
      "\n",
      "\n",
      "===== Accuracy, Precision, Recall =====\n",
      "Accuracy: 0.5021978021978022\n",
      "Precision: 0.5276190476190477\n",
      "Recall: 0.5746887966804979\n",
      "\n",
      "\n",
      "=================== classification report ===================\n",
      "              precision    recall  f1-score   support\n",
      "\n",
      "           0       0.47      0.42      0.44       428\n",
      "           1       0.53      0.57      0.55       482\n",
      "\n",
      "    accuracy                           0.50       910\n",
      "   macro avg       0.50      0.50      0.50       910\n",
      "weighted avg       0.50      0.50      0.50       910\n",
      "\n"
     ]
    }
   ],
   "source": [
    "y_pred = fitdatato_rfmodel('Stategy1', X_train, y_train, X_test, y_test)\n",
    "\n",
    "acc_rf_stat1 = metrics.accuracy_score(y_test, y_pred)\n",
    "pre_rf_stat1 = metrics.precision_score(y_test, y_pred)\n",
    "rec_rf_stat1 = metrics.recall_score(y_test, y_pred)\n",
    "\n",
    "score_df = score_df.append({'Classifier' : 'RF', 'Stategy' : 'Stategy 1', 'Accuracy' : acc_rf_stat1, 'Precision': pre_rf_stat1,'Recall': rec_rf_stat1}, \n",
    "                ignore_index = True)\n"
   ]
  },
  {
   "cell_type": "markdown",
   "id": "6b4349d6",
   "metadata": {},
   "source": [
    "#### 3) Gradient Booster"
   ]
  },
  {
   "cell_type": "code",
   "execution_count": 30,
   "id": "5586068a",
   "metadata": {
    "scrolled": true
   },
   "outputs": [
    {
     "name": "stdout",
     "output_type": "stream",
     "text": [
      "\n",
      "\n",
      "===== confusion matrix =====\n",
      "[[134 294]\n",
      " [144 338]]\n",
      "\n",
      "\n",
      "===== Accuracy, Precision, Recall =====\n",
      "Accuracy: 0.5186813186813187\n",
      "Precision: 0.5348101265822784\n",
      "Recall: 0.7012448132780082\n",
      "\n",
      "\n",
      "=================== classification report ===================\n",
      "              precision    recall  f1-score   support\n",
      "\n",
      "           0       0.48      0.31      0.38       428\n",
      "           1       0.53      0.70      0.61       482\n",
      "\n",
      "    accuracy                           0.52       910\n",
      "   macro avg       0.51      0.51      0.49       910\n",
      "weighted avg       0.51      0.52      0.50       910\n",
      "\n"
     ]
    }
   ],
   "source": [
    "y_pred = fitdatato_gradient_boostermodel('Stategy1', X_train, y_train, X_test, y_test)\n",
    "\n",
    "acc_gb_stat1 = metrics.accuracy_score(y_test, y_pred)\n",
    "pre_gb_stat1 = metrics.precision_score(y_test, y_pred)\n",
    "rec_gb_stat1 = metrics.recall_score(y_test, y_pred)\n",
    "\n",
    "score_df = score_df.append({'Classifier' : 'GB', 'Stategy' : 'Stategy 1', 'Accuracy' : acc_gb_stat1, 'Precision': pre_gb_stat1,'Recall': rec_gb_stat1}, \n",
    "                ignore_index = True)"
   ]
  },
  {
   "cell_type": "markdown",
   "id": "86b6419e",
   "metadata": {},
   "source": [
    "#### 4) Support Vector Machines (SVMs)"
   ]
  },
  {
   "cell_type": "code",
   "execution_count": 31,
   "id": "19c25825",
   "metadata": {},
   "outputs": [
    {
     "name": "stdout",
     "output_type": "stream",
     "text": [
      "\n",
      "\n",
      "===== confusion matrix =====\n",
      "[[133 295]\n",
      " [151 331]]\n",
      "\n",
      "\n",
      "===== Accuracy, Precision, Recall =====\n",
      "Accuracy: 0.5098901098901099\n",
      "Precision: 0.5287539936102237\n",
      "Recall: 0.6867219917012448\n",
      "\n",
      "\n",
      "=================== classification report ===================\n",
      "              precision    recall  f1-score   support\n",
      "\n",
      "           0       0.47      0.31      0.37       428\n",
      "           1       0.53      0.69      0.60       482\n",
      "\n",
      "    accuracy                           0.51       910\n",
      "   macro avg       0.50      0.50      0.49       910\n",
      "weighted avg       0.50      0.51      0.49       910\n",
      "\n"
     ]
    }
   ],
   "source": [
    "y_pred = fitdatato_svmmodel('Stategy1', X_train, y_train, X_test, y_test)\n",
    "\n",
    "acc_svm_stat1 = metrics.accuracy_score(y_test, y_pred)\n",
    "pre_svm_stat1 = metrics.precision_score(y_test, y_pred)\n",
    "rec_svm_stat1 = metrics.recall_score(y_test, y_pred)\n",
    "\n",
    "score_df = score_df.append({'Classifier' : 'SVM', 'Stategy' : 'Stategy 1', 'Accuracy' : acc_svm_stat1, 'Precision': pre_svm_stat1,'Recall': rec_svm_stat1}, \n",
    "                ignore_index = True)\n"
   ]
  },
  {
   "cell_type": "markdown",
   "id": "8a243e01",
   "metadata": {},
   "source": [
    "#### 5) XGBoost"
   ]
  },
  {
   "cell_type": "code",
   "execution_count": 32,
   "id": "8032e0d4",
   "metadata": {},
   "outputs": [
    {
     "name": "stdout",
     "output_type": "stream",
     "text": [
      "[16:57:00] WARNING: /opt/concourse/worker/volumes/live/7a2b9f41-3287-451b-6691-43e9a6c0910f/volume/xgboost-split_1619728204606/work/src/learner.cc:1061: Starting in XGBoost 1.3.0, the default evaluation metric used with the objective 'binary:logistic' was changed from 'error' to 'logloss'. Explicitly set eval_metric if you'd like to restore the old behavior.\n",
      "\n",
      "\n",
      "===== confusion matrix =====\n",
      "[[179 249]\n",
      " [197 285]]\n",
      "\n",
      "\n",
      "===== Accuracy, Precision, Recall =====\n",
      "Accuracy: 0.5098901098901099\n",
      "Precision: 0.5337078651685393\n",
      "Recall: 0.5912863070539419\n",
      "\n",
      "\n",
      "=================== classification report ===================\n",
      "              precision    recall  f1-score   support\n",
      "\n",
      "           0       0.48      0.42      0.45       428\n",
      "           1       0.53      0.59      0.56       482\n",
      "\n",
      "    accuracy                           0.51       910\n",
      "   macro avg       0.50      0.50      0.50       910\n",
      "weighted avg       0.51      0.51      0.51       910\n",
      "\n"
     ]
    },
    {
     "name": "stderr",
     "output_type": "stream",
     "text": [
      "/opt/anaconda3/lib/python3.8/site-packages/xgboost/sklearn.py:888: UserWarning: The use of label encoder in XGBClassifier is deprecated and will be removed in a future release. To remove this warning, do the following: 1) Pass option use_label_encoder=False when constructing XGBClassifier object; and 2) Encode your labels (y) as integers starting with 0, i.e. 0, 1, 2, ..., [num_class - 1].\n",
      "  warnings.warn(label_encoder_deprecation_msg, UserWarning)\n"
     ]
    }
   ],
   "source": [
    "y_pred_xg = fitdatato_xgboostmodel('Stategy1', X_train, y_train, X_test, y_test)\n",
    "\n",
    "acc_xgb_stat1 = metrics.accuracy_score(y_test, y_pred_xg)\n",
    "pre_xgb_stat1 = metrics.precision_score(y_test, y_pred_xg)\n",
    "rec_xgb_stat1 = metrics.recall_score(y_test, y_pred_xg)\n",
    "\n",
    "score_df = score_df.append({'Classifier' : 'XGBoost', 'Stategy' : 'Stategy 1', 'Accuracy' : acc_xgb_stat1, 'Precision': pre_xgb_stat1,'Recall': rec_xgb_stat1}, \n",
    "                ignore_index = True)"
   ]
  },
  {
   "cell_type": "markdown",
   "id": "192d4d68",
   "metadata": {},
   "source": [
    "### Strategy-2: \n",
    "Utilize the 50-day moving average vs the 200-day moving average."
   ]
  },
  {
   "cell_type": "code",
   "execution_count": 33,
   "id": "a2c84ac1",
   "metadata": {},
   "outputs": [
    {
     "data": {
      "text/html": [
       "<div>\n",
       "<style scoped>\n",
       "    .dataframe tbody tr th:only-of-type {\n",
       "        vertical-align: middle;\n",
       "    }\n",
       "\n",
       "    .dataframe tbody tr th {\n",
       "        vertical-align: top;\n",
       "    }\n",
       "\n",
       "    .dataframe thead th {\n",
       "        text-align: right;\n",
       "    }\n",
       "</style>\n",
       "<table border=\"1\" class=\"dataframe\">\n",
       "  <thead>\n",
       "    <tr style=\"text-align: right;\">\n",
       "      <th></th>\n",
       "      <th>Open</th>\n",
       "      <th>High</th>\n",
       "      <th>Low</th>\n",
       "      <th>Close</th>\n",
       "      <th>Adj Close</th>\n",
       "      <th>Volume</th>\n",
       "    </tr>\n",
       "    <tr>\n",
       "      <th>Date</th>\n",
       "      <th></th>\n",
       "      <th></th>\n",
       "      <th></th>\n",
       "      <th></th>\n",
       "      <th></th>\n",
       "      <th></th>\n",
       "    </tr>\n",
       "  </thead>\n",
       "  <tbody>\n",
       "    <tr>\n",
       "      <th>2010-01-04</th>\n",
       "      <td>136.250000</td>\n",
       "      <td>136.610001</td>\n",
       "      <td>133.139999</td>\n",
       "      <td>133.899994</td>\n",
       "      <td>133.899994</td>\n",
       "      <td>7599900</td>\n",
       "    </tr>\n",
       "    <tr>\n",
       "      <th>2010-01-05</th>\n",
       "      <td>133.429993</td>\n",
       "      <td>135.479996</td>\n",
       "      <td>131.809998</td>\n",
       "      <td>134.690002</td>\n",
       "      <td>134.690002</td>\n",
       "      <td>8851900</td>\n",
       "    </tr>\n",
       "    <tr>\n",
       "      <th>2010-01-06</th>\n",
       "      <td>134.600006</td>\n",
       "      <td>134.729996</td>\n",
       "      <td>131.649994</td>\n",
       "      <td>132.250000</td>\n",
       "      <td>132.250000</td>\n",
       "      <td>7178800</td>\n",
       "    </tr>\n",
       "    <tr>\n",
       "      <th>2010-01-07</th>\n",
       "      <td>132.009995</td>\n",
       "      <td>132.320007</td>\n",
       "      <td>128.800003</td>\n",
       "      <td>130.000000</td>\n",
       "      <td>130.000000</td>\n",
       "      <td>11030200</td>\n",
       "    </tr>\n",
       "    <tr>\n",
       "      <th>2010-01-08</th>\n",
       "      <td>130.559998</td>\n",
       "      <td>133.679993</td>\n",
       "      <td>129.029999</td>\n",
       "      <td>133.520004</td>\n",
       "      <td>133.520004</td>\n",
       "      <td>9830500</td>\n",
       "    </tr>\n",
       "    <tr>\n",
       "      <th>...</th>\n",
       "      <td>...</td>\n",
       "      <td>...</td>\n",
       "      <td>...</td>\n",
       "      <td>...</td>\n",
       "      <td>...</td>\n",
       "      <td>...</td>\n",
       "    </tr>\n",
       "    <tr>\n",
       "      <th>2022-01-10</th>\n",
       "      <td>3211.709961</td>\n",
       "      <td>3233.229980</td>\n",
       "      <td>3126.090088</td>\n",
       "      <td>3229.719971</td>\n",
       "      <td>3229.719971</td>\n",
       "      <td>4389900</td>\n",
       "    </tr>\n",
       "    <tr>\n",
       "      <th>2022-01-11</th>\n",
       "      <td>3230.000000</td>\n",
       "      <td>3327.000000</td>\n",
       "      <td>3214.030029</td>\n",
       "      <td>3307.239990</td>\n",
       "      <td>3307.239990</td>\n",
       "      <td>3140300</td>\n",
       "    </tr>\n",
       "    <tr>\n",
       "      <th>2022-01-12</th>\n",
       "      <td>3331.500000</td>\n",
       "      <td>3337.560059</td>\n",
       "      <td>3288.340088</td>\n",
       "      <td>3304.139893</td>\n",
       "      <td>3304.139893</td>\n",
       "      <td>2501500</td>\n",
       "    </tr>\n",
       "    <tr>\n",
       "      <th>2022-01-13</th>\n",
       "      <td>3305.010010</td>\n",
       "      <td>3324.429932</td>\n",
       "      <td>3221.820068</td>\n",
       "      <td>3224.280029</td>\n",
       "      <td>3224.280029</td>\n",
       "      <td>2609400</td>\n",
       "    </tr>\n",
       "    <tr>\n",
       "      <th>2022-01-14</th>\n",
       "      <td>3203.000000</td>\n",
       "      <td>3245.000000</td>\n",
       "      <td>3196.010010</td>\n",
       "      <td>3242.760010</td>\n",
       "      <td>3242.760010</td>\n",
       "      <td>2298700</td>\n",
       "    </tr>\n",
       "  </tbody>\n",
       "</table>\n",
       "<p>3031 rows × 6 columns</p>\n",
       "</div>"
      ],
      "text/plain": [
       "                   Open         High          Low        Close    Adj Close  \\\n",
       "Date                                                                          \n",
       "2010-01-04   136.250000   136.610001   133.139999   133.899994   133.899994   \n",
       "2010-01-05   133.429993   135.479996   131.809998   134.690002   134.690002   \n",
       "2010-01-06   134.600006   134.729996   131.649994   132.250000   132.250000   \n",
       "2010-01-07   132.009995   132.320007   128.800003   130.000000   130.000000   \n",
       "2010-01-08   130.559998   133.679993   129.029999   133.520004   133.520004   \n",
       "...                 ...          ...          ...          ...          ...   \n",
       "2022-01-10  3211.709961  3233.229980  3126.090088  3229.719971  3229.719971   \n",
       "2022-01-11  3230.000000  3327.000000  3214.030029  3307.239990  3307.239990   \n",
       "2022-01-12  3331.500000  3337.560059  3288.340088  3304.139893  3304.139893   \n",
       "2022-01-13  3305.010010  3324.429932  3221.820068  3224.280029  3224.280029   \n",
       "2022-01-14  3203.000000  3245.000000  3196.010010  3242.760010  3242.760010   \n",
       "\n",
       "              Volume  \n",
       "Date                  \n",
       "2010-01-04   7599900  \n",
       "2010-01-05   8851900  \n",
       "2010-01-06   7178800  \n",
       "2010-01-07  11030200  \n",
       "2010-01-08   9830500  \n",
       "...              ...  \n",
       "2022-01-10   4389900  \n",
       "2022-01-11   3140300  \n",
       "2022-01-12   2501500  \n",
       "2022-01-13   2609400  \n",
       "2022-01-14   2298700  \n",
       "\n",
       "[3031 rows x 6 columns]"
      ]
     },
     "execution_count": 33,
     "metadata": {},
     "output_type": "execute_result"
    }
   ],
   "source": [
    "amazon_data\n"
   ]
  },
  {
   "cell_type": "code",
   "execution_count": 34,
   "id": "3ba5cb3b",
   "metadata": {},
   "outputs": [],
   "source": [
    "# Computing the rolling averages\n",
    "\n",
    "amazon_data_stat2 = amazon_data.copy()\n",
    "\n",
    "amazon_data_stat2['50_dsmv'] = amazon_data_stat2['Adj Close'].rolling(50).mean()\n",
    "amazon_data_stat2['200_dsmv'] = amazon_data_stat2['Adj Close'].rolling(200).mean()\n",
    "\n",
    "amazon_data_stat2 = amazon_data_stat2.dropna()\n",
    "\n",
    "amazon_data_stat2['label'] = amazon_data_stat2.apply(lambda row:0 if row[f'50_dsmv'] > row[f'200_dsmv'] else 1, axis = 1)\n"
   ]
  },
  {
   "cell_type": "code",
   "execution_count": 35,
   "id": "2c2c2ca0",
   "metadata": {},
   "outputs": [
    {
     "data": {
      "text/html": [
       "<div>\n",
       "<style scoped>\n",
       "    .dataframe tbody tr th:only-of-type {\n",
       "        vertical-align: middle;\n",
       "    }\n",
       "\n",
       "    .dataframe tbody tr th {\n",
       "        vertical-align: top;\n",
       "    }\n",
       "\n",
       "    .dataframe thead th {\n",
       "        text-align: right;\n",
       "    }\n",
       "</style>\n",
       "<table border=\"1\" class=\"dataframe\">\n",
       "  <thead>\n",
       "    <tr style=\"text-align: right;\">\n",
       "      <th></th>\n",
       "      <th>Open</th>\n",
       "      <th>High</th>\n",
       "      <th>Low</th>\n",
       "      <th>Close</th>\n",
       "      <th>Adj Close</th>\n",
       "      <th>Volume</th>\n",
       "      <th>50_dsmv</th>\n",
       "      <th>200_dsmv</th>\n",
       "      <th>label</th>\n",
       "    </tr>\n",
       "    <tr>\n",
       "      <th>Date</th>\n",
       "      <th></th>\n",
       "      <th></th>\n",
       "      <th></th>\n",
       "      <th></th>\n",
       "      <th></th>\n",
       "      <th></th>\n",
       "      <th></th>\n",
       "      <th></th>\n",
       "      <th></th>\n",
       "    </tr>\n",
       "  </thead>\n",
       "  <tbody>\n",
       "    <tr>\n",
       "      <th>2010-10-18</th>\n",
       "      <td>165.000000</td>\n",
       "      <td>165.190002</td>\n",
       "      <td>161.820007</td>\n",
       "      <td>163.559998</td>\n",
       "      <td>163.559998</td>\n",
       "      <td>6331300</td>\n",
       "      <td>142.810600</td>\n",
       "      <td>130.500000</td>\n",
       "      <td>0</td>\n",
       "    </tr>\n",
       "    <tr>\n",
       "      <th>2010-10-19</th>\n",
       "      <td>160.679993</td>\n",
       "      <td>162.800003</td>\n",
       "      <td>157.000000</td>\n",
       "      <td>158.669998</td>\n",
       "      <td>158.669998</td>\n",
       "      <td>7525000</td>\n",
       "      <td>143.407400</td>\n",
       "      <td>130.623850</td>\n",
       "      <td>0</td>\n",
       "    </tr>\n",
       "    <tr>\n",
       "      <th>2010-10-20</th>\n",
       "      <td>158.779999</td>\n",
       "      <td>159.869995</td>\n",
       "      <td>156.570007</td>\n",
       "      <td>158.669998</td>\n",
       "      <td>158.669998</td>\n",
       "      <td>5790400</td>\n",
       "      <td>143.980800</td>\n",
       "      <td>130.743750</td>\n",
       "      <td>0</td>\n",
       "    </tr>\n",
       "    <tr>\n",
       "      <th>2010-10-21</th>\n",
       "      <td>162.669998</td>\n",
       "      <td>166.130005</td>\n",
       "      <td>161.289993</td>\n",
       "      <td>164.970001</td>\n",
       "      <td>164.970001</td>\n",
       "      <td>13482500</td>\n",
       "      <td>144.762400</td>\n",
       "      <td>130.907350</td>\n",
       "      <td>0</td>\n",
       "    </tr>\n",
       "    <tr>\n",
       "      <th>2010-10-22</th>\n",
       "      <td>162.449997</td>\n",
       "      <td>170.169998</td>\n",
       "      <td>162.270004</td>\n",
       "      <td>169.130005</td>\n",
       "      <td>169.130005</td>\n",
       "      <td>16318400</td>\n",
       "      <td>145.613800</td>\n",
       "      <td>131.103000</td>\n",
       "      <td>0</td>\n",
       "    </tr>\n",
       "    <tr>\n",
       "      <th>...</th>\n",
       "      <td>...</td>\n",
       "      <td>...</td>\n",
       "      <td>...</td>\n",
       "      <td>...</td>\n",
       "      <td>...</td>\n",
       "      <td>...</td>\n",
       "      <td>...</td>\n",
       "      <td>...</td>\n",
       "      <td>...</td>\n",
       "    </tr>\n",
       "    <tr>\n",
       "      <th>2022-01-10</th>\n",
       "      <td>3211.709961</td>\n",
       "      <td>3233.229980</td>\n",
       "      <td>3126.090088</td>\n",
       "      <td>3229.719971</td>\n",
       "      <td>3229.719971</td>\n",
       "      <td>4389900</td>\n",
       "      <td>3444.269214</td>\n",
       "      <td>3391.432203</td>\n",
       "      <td>0</td>\n",
       "    </tr>\n",
       "    <tr>\n",
       "      <th>2022-01-11</th>\n",
       "      <td>3230.000000</td>\n",
       "      <td>3327.000000</td>\n",
       "      <td>3214.030029</td>\n",
       "      <td>3307.239990</td>\n",
       "      <td>3307.239990</td>\n",
       "      <td>3140300</td>\n",
       "      <td>3442.965415</td>\n",
       "      <td>3392.589753</td>\n",
       "      <td>0</td>\n",
       "    </tr>\n",
       "    <tr>\n",
       "      <th>2022-01-12</th>\n",
       "      <td>3331.500000</td>\n",
       "      <td>3337.560059</td>\n",
       "      <td>3288.340088</td>\n",
       "      <td>3304.139893</td>\n",
       "      <td>3304.139893</td>\n",
       "      <td>2501500</td>\n",
       "      <td>3442.686011</td>\n",
       "      <td>3393.834003</td>\n",
       "      <td>0</td>\n",
       "    </tr>\n",
       "    <tr>\n",
       "      <th>2022-01-13</th>\n",
       "      <td>3305.010010</td>\n",
       "      <td>3324.429932</td>\n",
       "      <td>3221.820068</td>\n",
       "      <td>3224.280029</td>\n",
       "      <td>3224.280029</td>\n",
       "      <td>2609400</td>\n",
       "      <td>3440.916611</td>\n",
       "      <td>3394.485002</td>\n",
       "      <td>0</td>\n",
       "    </tr>\n",
       "    <tr>\n",
       "      <th>2022-01-14</th>\n",
       "      <td>3203.000000</td>\n",
       "      <td>3245.000000</td>\n",
       "      <td>3196.010010</td>\n",
       "      <td>3242.760010</td>\n",
       "      <td>3242.760010</td>\n",
       "      <td>2298700</td>\n",
       "      <td>3438.091812</td>\n",
       "      <td>3394.893802</td>\n",
       "      <td>0</td>\n",
       "    </tr>\n",
       "  </tbody>\n",
       "</table>\n",
       "<p>2832 rows × 9 columns</p>\n",
       "</div>"
      ],
      "text/plain": [
       "                   Open         High          Low        Close    Adj Close  \\\n",
       "Date                                                                          \n",
       "2010-10-18   165.000000   165.190002   161.820007   163.559998   163.559998   \n",
       "2010-10-19   160.679993   162.800003   157.000000   158.669998   158.669998   \n",
       "2010-10-20   158.779999   159.869995   156.570007   158.669998   158.669998   \n",
       "2010-10-21   162.669998   166.130005   161.289993   164.970001   164.970001   \n",
       "2010-10-22   162.449997   170.169998   162.270004   169.130005   169.130005   \n",
       "...                 ...          ...          ...          ...          ...   \n",
       "2022-01-10  3211.709961  3233.229980  3126.090088  3229.719971  3229.719971   \n",
       "2022-01-11  3230.000000  3327.000000  3214.030029  3307.239990  3307.239990   \n",
       "2022-01-12  3331.500000  3337.560059  3288.340088  3304.139893  3304.139893   \n",
       "2022-01-13  3305.010010  3324.429932  3221.820068  3224.280029  3224.280029   \n",
       "2022-01-14  3203.000000  3245.000000  3196.010010  3242.760010  3242.760010   \n",
       "\n",
       "              Volume      50_dsmv     200_dsmv  label  \n",
       "Date                                                   \n",
       "2010-10-18   6331300   142.810600   130.500000      0  \n",
       "2010-10-19   7525000   143.407400   130.623850      0  \n",
       "2010-10-20   5790400   143.980800   130.743750      0  \n",
       "2010-10-21  13482500   144.762400   130.907350      0  \n",
       "2010-10-22  16318400   145.613800   131.103000      0  \n",
       "...              ...          ...          ...    ...  \n",
       "2022-01-10   4389900  3444.269214  3391.432203      0  \n",
       "2022-01-11   3140300  3442.965415  3392.589753      0  \n",
       "2022-01-12   2501500  3442.686011  3393.834003      0  \n",
       "2022-01-13   2609400  3440.916611  3394.485002      0  \n",
       "2022-01-14   2298700  3438.091812  3394.893802      0  \n",
       "\n",
       "[2832 rows x 9 columns]"
      ]
     },
     "execution_count": 35,
     "metadata": {},
     "output_type": "execute_result"
    }
   ],
   "source": [
    "amazon_data_stat2"
   ]
  },
  {
   "cell_type": "markdown",
   "id": "cd6566ab",
   "metadata": {},
   "source": [
    "### Plot"
   ]
  },
  {
   "cell_type": "code",
   "execution_count": 36,
   "id": "a2eb0414",
   "metadata": {},
   "outputs": [
    {
     "data": {
      "text/plain": [
       "<matplotlib.legend.Legend at 0x7f83ccf547c0>"
      ]
     },
     "execution_count": 36,
     "metadata": {},
     "output_type": "execute_result"
    },
    {
     "data": {
      "image/png": "[encoded data removed]",
      "text/plain": [
       "<Figure size 1008x432 with 1 Axes>"
      ]
     },
     "metadata": {
      "needs_background": "light"
     },
     "output_type": "display_data"
    }
   ],
   "source": [
    "amazon_data_stat2['Adj Close'].plot()\n",
    "amazon_data_stat2['50_dsmv'].plot(figsize= (14, 6))\n",
    "amazon_data_stat2['200_dsmv'].plot(figsize= (14, 6))\n",
    "plt.legend()"
   ]
  },
  {
   "cell_type": "code",
   "execution_count": 37,
   "id": "6f62b1ba",
   "metadata": {},
   "outputs": [
    {
     "data": {
      "text/html": [
       "<div>\n",
       "<style scoped>\n",
       "    .dataframe tbody tr th:only-of-type {\n",
       "        vertical-align: middle;\n",
       "    }\n",
       "\n",
       "    .dataframe tbody tr th {\n",
       "        vertical-align: top;\n",
       "    }\n",
       "\n",
       "    .dataframe thead th {\n",
       "        text-align: right;\n",
       "    }\n",
       "</style>\n",
       "<table border=\"1\" class=\"dataframe\">\n",
       "  <thead>\n",
       "    <tr style=\"text-align: right;\">\n",
       "      <th></th>\n",
       "      <th>Open</th>\n",
       "      <th>High</th>\n",
       "      <th>Low</th>\n",
       "      <th>Close</th>\n",
       "      <th>Adj Close</th>\n",
       "      <th>Volume</th>\n",
       "      <th>50_dsmv</th>\n",
       "      <th>200_dsmv</th>\n",
       "      <th>label</th>\n",
       "    </tr>\n",
       "    <tr>\n",
       "      <th>Date</th>\n",
       "      <th></th>\n",
       "      <th></th>\n",
       "      <th></th>\n",
       "      <th></th>\n",
       "      <th></th>\n",
       "      <th></th>\n",
       "      <th></th>\n",
       "      <th></th>\n",
       "      <th></th>\n",
       "    </tr>\n",
       "  </thead>\n",
       "  <tbody>\n",
       "    <tr>\n",
       "      <th>2010-10-18</th>\n",
       "      <td>165.000000</td>\n",
       "      <td>165.190002</td>\n",
       "      <td>161.820007</td>\n",
       "      <td>163.559998</td>\n",
       "      <td>163.559998</td>\n",
       "      <td>6331300</td>\n",
       "      <td>142.810600</td>\n",
       "      <td>130.500000</td>\n",
       "      <td>0</td>\n",
       "    </tr>\n",
       "    <tr>\n",
       "      <th>2010-10-19</th>\n",
       "      <td>160.679993</td>\n",
       "      <td>162.800003</td>\n",
       "      <td>157.000000</td>\n",
       "      <td>158.669998</td>\n",
       "      <td>158.669998</td>\n",
       "      <td>7525000</td>\n",
       "      <td>143.407400</td>\n",
       "      <td>130.623850</td>\n",
       "      <td>0</td>\n",
       "    </tr>\n",
       "    <tr>\n",
       "      <th>2010-10-20</th>\n",
       "      <td>158.779999</td>\n",
       "      <td>159.869995</td>\n",
       "      <td>156.570007</td>\n",
       "      <td>158.669998</td>\n",
       "      <td>158.669998</td>\n",
       "      <td>5790400</td>\n",
       "      <td>143.980800</td>\n",
       "      <td>130.743750</td>\n",
       "      <td>0</td>\n",
       "    </tr>\n",
       "    <tr>\n",
       "      <th>2010-10-21</th>\n",
       "      <td>162.669998</td>\n",
       "      <td>166.130005</td>\n",
       "      <td>161.289993</td>\n",
       "      <td>164.970001</td>\n",
       "      <td>164.970001</td>\n",
       "      <td>13482500</td>\n",
       "      <td>144.762400</td>\n",
       "      <td>130.907350</td>\n",
       "      <td>0</td>\n",
       "    </tr>\n",
       "    <tr>\n",
       "      <th>2010-10-22</th>\n",
       "      <td>162.449997</td>\n",
       "      <td>170.169998</td>\n",
       "      <td>162.270004</td>\n",
       "      <td>169.130005</td>\n",
       "      <td>169.130005</td>\n",
       "      <td>16318400</td>\n",
       "      <td>145.613800</td>\n",
       "      <td>131.103000</td>\n",
       "      <td>0</td>\n",
       "    </tr>\n",
       "    <tr>\n",
       "      <th>...</th>\n",
       "      <td>...</td>\n",
       "      <td>...</td>\n",
       "      <td>...</td>\n",
       "      <td>...</td>\n",
       "      <td>...</td>\n",
       "      <td>...</td>\n",
       "      <td>...</td>\n",
       "      <td>...</td>\n",
       "      <td>...</td>\n",
       "    </tr>\n",
       "    <tr>\n",
       "      <th>2022-01-10</th>\n",
       "      <td>3211.709961</td>\n",
       "      <td>3233.229980</td>\n",
       "      <td>3126.090088</td>\n",
       "      <td>3229.719971</td>\n",
       "      <td>3229.719971</td>\n",
       "      <td>4389900</td>\n",
       "      <td>3444.269214</td>\n",
       "      <td>3391.432203</td>\n",
       "      <td>0</td>\n",
       "    </tr>\n",
       "    <tr>\n",
       "      <th>2022-01-11</th>\n",
       "      <td>3230.000000</td>\n",
       "      <td>3327.000000</td>\n",
       "      <td>3214.030029</td>\n",
       "      <td>3307.239990</td>\n",
       "      <td>3307.239990</td>\n",
       "      <td>3140300</td>\n",
       "      <td>3442.965415</td>\n",
       "      <td>3392.589753</td>\n",
       "      <td>0</td>\n",
       "    </tr>\n",
       "    <tr>\n",
       "      <th>2022-01-12</th>\n",
       "      <td>3331.500000</td>\n",
       "      <td>3337.560059</td>\n",
       "      <td>3288.340088</td>\n",
       "      <td>3304.139893</td>\n",
       "      <td>3304.139893</td>\n",
       "      <td>2501500</td>\n",
       "      <td>3442.686011</td>\n",
       "      <td>3393.834003</td>\n",
       "      <td>0</td>\n",
       "    </tr>\n",
       "    <tr>\n",
       "      <th>2022-01-13</th>\n",
       "      <td>3305.010010</td>\n",
       "      <td>3324.429932</td>\n",
       "      <td>3221.820068</td>\n",
       "      <td>3224.280029</td>\n",
       "      <td>3224.280029</td>\n",
       "      <td>2609400</td>\n",
       "      <td>3440.916611</td>\n",
       "      <td>3394.485002</td>\n",
       "      <td>0</td>\n",
       "    </tr>\n",
       "    <tr>\n",
       "      <th>2022-01-14</th>\n",
       "      <td>3203.000000</td>\n",
       "      <td>3245.000000</td>\n",
       "      <td>3196.010010</td>\n",
       "      <td>3242.760010</td>\n",
       "      <td>3242.760010</td>\n",
       "      <td>2298700</td>\n",
       "      <td>3438.091812</td>\n",
       "      <td>3394.893802</td>\n",
       "      <td>0</td>\n",
       "    </tr>\n",
       "  </tbody>\n",
       "</table>\n",
       "<p>2832 rows × 9 columns</p>\n",
       "</div>"
      ],
      "text/plain": [
       "                   Open         High          Low        Close    Adj Close  \\\n",
       "Date                                                                          \n",
       "2010-10-18   165.000000   165.190002   161.820007   163.559998   163.559998   \n",
       "2010-10-19   160.679993   162.800003   157.000000   158.669998   158.669998   \n",
       "2010-10-20   158.779999   159.869995   156.570007   158.669998   158.669998   \n",
       "2010-10-21   162.669998   166.130005   161.289993   164.970001   164.970001   \n",
       "2010-10-22   162.449997   170.169998   162.270004   169.130005   169.130005   \n",
       "...                 ...          ...          ...          ...          ...   \n",
       "2022-01-10  3211.709961  3233.229980  3126.090088  3229.719971  3229.719971   \n",
       "2022-01-11  3230.000000  3327.000000  3214.030029  3307.239990  3307.239990   \n",
       "2022-01-12  3331.500000  3337.560059  3288.340088  3304.139893  3304.139893   \n",
       "2022-01-13  3305.010010  3324.429932  3221.820068  3224.280029  3224.280029   \n",
       "2022-01-14  3203.000000  3245.000000  3196.010010  3242.760010  3242.760010   \n",
       "\n",
       "              Volume      50_dsmv     200_dsmv  label  \n",
       "Date                                                   \n",
       "2010-10-18   6331300   142.810600   130.500000      0  \n",
       "2010-10-19   7525000   143.407400   130.623850      0  \n",
       "2010-10-20   5790400   143.980800   130.743750      0  \n",
       "2010-10-21  13482500   144.762400   130.907350      0  \n",
       "2010-10-22  16318400   145.613800   131.103000      0  \n",
       "...              ...          ...          ...    ...  \n",
       "2022-01-10   4389900  3444.269214  3391.432203      0  \n",
       "2022-01-11   3140300  3442.965415  3392.589753      0  \n",
       "2022-01-12   2501500  3442.686011  3393.834003      0  \n",
       "2022-01-13   2609400  3440.916611  3394.485002      0  \n",
       "2022-01-14   2298700  3438.091812  3394.893802      0  \n",
       "\n",
       "[2832 rows x 9 columns]"
      ]
     },
     "execution_count": 37,
     "metadata": {},
     "output_type": "execute_result"
    }
   ],
   "source": [
    "amazon_data_stat2"
   ]
  },
  {
   "cell_type": "code",
   "execution_count": 38,
   "id": "ef8875df",
   "metadata": {},
   "outputs": [],
   "source": [
    "# amazon_data_stat2['label'].value_counts()"
   ]
  },
  {
   "cell_type": "code",
   "execution_count": 39,
   "id": "eedd3238",
   "metadata": {},
   "outputs": [
    {
     "data": {
      "text/plain": [
       "(2832, 9)"
      ]
     },
     "execution_count": 39,
     "metadata": {},
     "output_type": "execute_result"
    }
   ],
   "source": [
    "amazon_data_stat2.shape\n"
   ]
  },
  {
   "cell_type": "code",
   "execution_count": 40,
   "id": "b7243028",
   "metadata": {},
   "outputs": [
    {
     "name": "stdout",
     "output_type": "stream",
     "text": [
      "<class 'pandas.core.frame.DataFrame'>\n",
      "DatetimeIndex: 2832 entries, 2010-10-18 to 2022-01-14\n",
      "Data columns (total 9 columns):\n",
      " #   Column     Non-Null Count  Dtype  \n",
      "---  ------     --------------  -----  \n",
      " 0   Open       2832 non-null   float64\n",
      " 1   High       2832 non-null   float64\n",
      " 2   Low        2832 non-null   float64\n",
      " 3   Close      2832 non-null   float64\n",
      " 4   Adj Close  2832 non-null   float64\n",
      " 5   Volume     2832 non-null   int64  \n",
      " 6   50_dsmv    2832 non-null   float64\n",
      " 7   200_dsmv   2832 non-null   float64\n",
      " 8   label      2832 non-null   int64  \n",
      "dtypes: float64(7), int64(2)\n",
      "memory usage: 221.2 KB\n"
     ]
    }
   ],
   "source": [
    "amazon_data_stat2.info()"
   ]
  },
  {
   "cell_type": "code",
   "execution_count": 41,
   "id": "e5a9c490",
   "metadata": {},
   "outputs": [],
   "source": [
    "# fig, ax = plt.subplots(figsize=(12,12))\n",
    "# sns.heatmap(amazon_data_stat2.corr(), annot=True, cmap=plt.cm.Greens)\n",
    "# plt.show()"
   ]
  },
  {
   "cell_type": "markdown",
   "id": "d4d780f5",
   "metadata": {},
   "source": [
    "### Dividing the dataset in train (80%) and test (20%)"
   ]
  },
  {
   "cell_type": "code",
   "execution_count": 42,
   "id": "1aa7394f",
   "metadata": {},
   "outputs": [],
   "source": [
    "# Dividing the dataset in train (80%) and test (20%)\n",
    "label_stat2 = amazon_data_stat2['label']\n",
    "features_col_stat2 = amazon_data_stat2.drop(['label'], axis = 1)\n",
    "\n",
    "X_train_stat2, X_test_stat2, y_train_stat2, y_test_stat2 = train_test_split(features_col_stat2, label_stat2, test_size = 0.2, random_state = 40)\n"
   ]
  },
  {
   "cell_type": "markdown",
   "id": "a24172f7",
   "metadata": {},
   "source": [
    "#### 1) KNN"
   ]
  },
  {
   "cell_type": "code",
   "execution_count": 43,
   "id": "17d141ab",
   "metadata": {},
   "outputs": [
    {
     "name": "stdout",
     "output_type": "stream",
     "text": [
      "\n",
      "\n",
      "===== confusion matrix =====\n",
      "[[445  17]\n",
      " [ 99   6]]\n",
      "\n",
      "\n",
      "===== Accuracy, Precision, Recall =====\n",
      "Accuracy: 0.7954144620811288\n",
      "Precision: 0.2608695652173913\n",
      "Recall: 0.05714285714285714\n",
      "\n",
      "\n",
      "=================== classification report ===================\n",
      "              precision    recall  f1-score   support\n",
      "\n",
      "           0       0.82      0.96      0.88       462\n",
      "           1       0.26      0.06      0.09       105\n",
      "\n",
      "    accuracy                           0.80       567\n",
      "   macro avg       0.54      0.51      0.49       567\n",
      "weighted avg       0.71      0.80      0.74       567\n",
      "\n"
     ]
    }
   ],
   "source": [
    "y_pred = fitdatato_knnmodel('Stategy2', X_train_stat2, y_train_stat2, X_test_stat2, y_test_stat2)\n",
    "\n",
    "acc_knn_stat2 = metrics.accuracy_score(y_test_stat2, y_pred)\n",
    "pre_knn_stat2 = metrics.precision_score(y_test_stat2, y_pred)\n",
    "rec_knn_stat2 = metrics.recall_score(y_test_stat2, y_pred)\n",
    "\n",
    "score_df = score_df.append({'Classifier' : 'KNN', 'Stategy' : 'Stategy 2', 'Accuracy' : acc_knn_stat2, 'Precision': pre_knn_stat2,'Recall': rec_knn_stat2}, \n",
    "                ignore_index = True)"
   ]
  },
  {
   "cell_type": "markdown",
   "id": "6fed3bda",
   "metadata": {},
   "source": [
    "#### 2) Random forest"
   ]
  },
  {
   "cell_type": "code",
   "execution_count": 44,
   "id": "3b6353bf",
   "metadata": {},
   "outputs": [
    {
     "name": "stdout",
     "output_type": "stream",
     "text": [
      "\n",
      "\n",
      "===== confusion matrix =====\n",
      "[[462   0]\n",
      " [  3 102]]\n",
      "\n",
      "\n",
      "===== Accuracy, Precision, Recall =====\n",
      "Accuracy: 0.9947089947089947\n",
      "Precision: 1.0\n",
      "Recall: 0.9714285714285714\n",
      "\n",
      "\n",
      "=================== classification report ===================\n",
      "              precision    recall  f1-score   support\n",
      "\n",
      "           0       0.99      1.00      1.00       462\n",
      "           1       1.00      0.97      0.99       105\n",
      "\n",
      "    accuracy                           0.99       567\n",
      "   macro avg       1.00      0.99      0.99       567\n",
      "weighted avg       0.99      0.99      0.99       567\n",
      "\n"
     ]
    }
   ],
   "source": [
    "y_pred = fitdatato_rfmodel('Stategy2', X_train_stat2, y_train_stat2, X_test_stat2, y_test_stat2)\n",
    "\n",
    "acc_rf_stat2 = metrics.accuracy_score(y_test_stat2, y_pred)\n",
    "pre_rf_stat2 = metrics.precision_score(y_test_stat2, y_pred)\n",
    "rec_rf_stat2 = metrics.recall_score(y_test_stat2, y_pred)\n",
    "\n",
    "score_df = score_df.append({'Classifier' : 'RF', 'Stategy' : 'Stategy 2', 'Accuracy' : acc_rf_stat2, 'Precision': pre_rf_stat2,'Recall': rec_rf_stat2}, \n",
    "                ignore_index = True)"
   ]
  },
  {
   "cell_type": "markdown",
   "id": "71d23fd4",
   "metadata": {},
   "source": [
    "#### 3) Gradient Booster"
   ]
  },
  {
   "cell_type": "code",
   "execution_count": 45,
   "id": "613c5023",
   "metadata": {},
   "outputs": [
    {
     "name": "stdout",
     "output_type": "stream",
     "text": [
      "\n",
      "\n",
      "===== confusion matrix =====\n",
      "[[458   4]\n",
      " [  0 105]]\n",
      "\n",
      "\n",
      "===== Accuracy, Precision, Recall =====\n",
      "Accuracy: 0.9929453262786596\n",
      "Precision: 0.963302752293578\n",
      "Recall: 1.0\n",
      "\n",
      "\n",
      "=================== classification report ===================\n",
      "              precision    recall  f1-score   support\n",
      "\n",
      "           0       1.00      0.99      1.00       462\n",
      "           1       0.96      1.00      0.98       105\n",
      "\n",
      "    accuracy                           0.99       567\n",
      "   macro avg       0.98      1.00      0.99       567\n",
      "weighted avg       0.99      0.99      0.99       567\n",
      "\n"
     ]
    }
   ],
   "source": [
    "y_pred = fitdatato_gradient_boostermodel('Stategy2', X_train_stat2, y_train_stat2, X_test_stat2, y_test_stat2)\n",
    "\n",
    "acc_gb_stat2 = metrics.accuracy_score(y_test_stat2, y_pred)\n",
    "pre_gb_stat2 = metrics.precision_score(y_test_stat2, y_pred)\n",
    "rec_gb_stat2 = metrics.recall_score(y_test_stat2, y_pred)\n",
    "\n",
    "score_df = score_df.append({'Classifier' : 'GB', 'Stategy' : 'Stategy 2', 'Accuracy' : acc_gb_stat2, 'Precision': pre_gb_stat2,'Recall': rec_gb_stat2}, \n",
    "                ignore_index = True)"
   ]
  },
  {
   "cell_type": "markdown",
   "id": "c650bea9",
   "metadata": {},
   "source": [
    "#### 4) Support Vector Machines (SVMs)"
   ]
  },
  {
   "cell_type": "code",
   "execution_count": 46,
   "id": "8116f936",
   "metadata": {},
   "outputs": [
    {
     "name": "stdout",
     "output_type": "stream",
     "text": [
      "\n",
      "\n",
      "===== confusion matrix =====\n",
      "[[458   4]\n",
      " [  0 105]]\n",
      "\n",
      "\n",
      "===== Accuracy, Precision, Recall =====\n",
      "Accuracy: 0.9929453262786596\n",
      "Precision: 0.963302752293578\n",
      "Recall: 1.0\n",
      "\n",
      "\n",
      "=================== classification report ===================\n",
      "              precision    recall  f1-score   support\n",
      "\n",
      "           0       1.00      0.99      1.00       462\n",
      "           1       0.96      1.00      0.98       105\n",
      "\n",
      "    accuracy                           0.99       567\n",
      "   macro avg       0.98      1.00      0.99       567\n",
      "weighted avg       0.99      0.99      0.99       567\n",
      "\n"
     ]
    }
   ],
   "source": [
    "y_pred = fitdatato_svmmodel('Stategy2', X_train_stat2, y_train_stat2, X_test_stat2, y_test_stat2)\n",
    "\n",
    "acc_svm_stat2 = metrics.accuracy_score(y_test_stat2, y_pred)\n",
    "pre_svm_stat2 = metrics.precision_score(y_test_stat2, y_pred)\n",
    "rec_svm_stat2 = metrics.recall_score(y_test_stat2, y_pred)\n",
    "\n",
    "score_df = score_df.append({'Classifier' : 'SVM', 'Stategy' : 'Stategy 2', 'Accuracy' : acc_svm_stat2, 'Precision': pre_svm_stat2,'Recall': rec_svm_stat2}, \n",
    "                ignore_index = True)"
   ]
  },
  {
   "cell_type": "markdown",
   "id": "f6097ae5",
   "metadata": {},
   "source": [
    "#### 5) XGBoost"
   ]
  },
  {
   "cell_type": "code",
   "execution_count": 47,
   "id": "36dab171",
   "metadata": {},
   "outputs": [
    {
     "name": "stdout",
     "output_type": "stream",
     "text": [
      "[16:57:02] WARNING: /opt/concourse/worker/volumes/live/7a2b9f41-3287-451b-6691-43e9a6c0910f/volume/xgboost-split_1619728204606/work/src/learner.cc:1061: Starting in XGBoost 1.3.0, the default evaluation metric used with the objective 'binary:logistic' was changed from 'error' to 'logloss'. Explicitly set eval_metric if you'd like to restore the old behavior.\n",
      "\n",
      "\n",
      "===== confusion matrix =====\n",
      "[[461   1]\n",
      " [  0 105]]\n",
      "\n",
      "\n",
      "===== Accuracy, Precision, Recall =====\n",
      "Accuracy: 0.9982363315696648\n",
      "Precision: 0.9905660377358491\n",
      "Recall: 1.0\n",
      "\n",
      "\n",
      "=================== classification report ===================\n",
      "              precision    recall  f1-score   support\n",
      "\n",
      "           0       1.00      1.00      1.00       462\n",
      "           1       0.99      1.00      1.00       105\n",
      "\n",
      "    accuracy                           1.00       567\n",
      "   macro avg       1.00      1.00      1.00       567\n",
      "weighted avg       1.00      1.00      1.00       567\n",
      "\n"
     ]
    },
    {
     "name": "stderr",
     "output_type": "stream",
     "text": [
      "/opt/anaconda3/lib/python3.8/site-packages/xgboost/sklearn.py:888: UserWarning: The use of label encoder in XGBClassifier is deprecated and will be removed in a future release. To remove this warning, do the following: 1) Pass option use_label_encoder=False when constructing XGBClassifier object; and 2) Encode your labels (y) as integers starting with 0, i.e. 0, 1, 2, ..., [num_class - 1].\n",
      "  warnings.warn(label_encoder_deprecation_msg, UserWarning)\n"
     ]
    }
   ],
   "source": [
    "y_pred = fitdatato_xgboostmodel('Stategy2', X_train_stat2, y_train_stat2, X_test_stat2, y_test_stat2)\n",
    "\n",
    "acc_xgb_stat2 = metrics.accuracy_score(y_test_stat2, y_pred)\n",
    "pre_xgb_stat2 = metrics.precision_score(y_test_stat2, y_pred)\n",
    "rec_xgb_stat2 = metrics.recall_score(y_test_stat2, y_pred)\n",
    "\n",
    "score_df = score_df.append({'Classifier' : 'XGBoost', 'Stategy' : 'Stategy 2', 'Accuracy' : acc_xgb_stat2, 'Precision': pre_xgb_stat2,'Recall': rec_xgb_stat2}, \n",
    "                ignore_index = True)"
   ]
  },
  {
   "cell_type": "markdown",
   "id": "726f3dc0",
   "metadata": {},
   "source": [
    "### Hypertuning some classifiers"
   ]
  },
  {
   "cell_type": "markdown",
   "id": "5b6d1001",
   "metadata": {},
   "source": [
    "### 1) KNN"
   ]
  },
  {
   "cell_type": "code",
   "execution_count": 48,
   "id": "bcb08a17",
   "metadata": {},
   "outputs": [],
   "source": [
    "def param_tuned_knn(X_train_stat2, y_train_stat2, X_test_stat2, y_test_stat2):\n",
    "    #grid_params = { 'n_neighbors' : [5,7,9],\n",
    "    #          'weights' : ['uniform','distance'],\n",
    "    #           'metric' : ['minkowski','euclidean','manhattan']}\n",
    "\n",
    "    #gs = GridSearchCV(KNeighborsClassifier(), grid_params, verbose = 1, cv=3, n_jobs = -1)\n",
    "\n",
    "    #g_res = gs.fit(X_train_stat2, y_train_stat2)\n",
    "\n",
    "    # use the best hyperparameters\n",
    "    knn = KNeighborsClassifier(n_neighbors = 17, weights = 'distance',algorithm = 'brute',metric = 'euclidean')\n",
    "    \n",
    "    # fit the model with data\n",
    "    knn.fit(X_train_stat2, y_train_stat2)\n",
    "\n",
    "    # Predict the Xtest data with knn model \n",
    "    y_pred = knn.predict(X_test_stat2)\n",
    "\n",
    "    print(\"\\n\\n===== confusion matrix =====\")\n",
    "    cnf_matrix = metrics.confusion_matrix(y_test_stat2, y_pred)\n",
    "    print(cnf_matrix)\n",
    "   \n",
    "    model_accuracy_precision_recall(y_test_stat2, y_pred)\n",
    "    print(\"\\n\\n=================== classification report ===================\")\n",
    "    print(classification_report(y_test_stat2, y_pred))\n",
    "    \n",
    "    #store_modelscore('GB', Stategy, y_test, y_pred)    \n",
    "    return y_pred\n",
    "    "
   ]
  },
  {
   "cell_type": "code",
   "execution_count": 49,
   "id": "821608bd",
   "metadata": {},
   "outputs": [
    {
     "name": "stdout",
     "output_type": "stream",
     "text": [
      "\n",
      "\n",
      "===== confusion matrix =====\n",
      "[[451  11]\n",
      " [ 98   7]]\n",
      "\n",
      "\n",
      "===== Accuracy, Precision, Recall =====\n",
      "Accuracy: 0.8077601410934744\n",
      "Precision: 0.3888888888888889\n",
      "Recall: 0.06666666666666667\n",
      "\n",
      "\n",
      "=================== classification report ===================\n",
      "              precision    recall  f1-score   support\n",
      "\n",
      "           0       0.82      0.98      0.89       462\n",
      "           1       0.39      0.07      0.11       105\n",
      "\n",
      "    accuracy                           0.81       567\n",
      "   macro avg       0.61      0.52      0.50       567\n",
      "weighted avg       0.74      0.81      0.75       567\n",
      "\n"
     ]
    }
   ],
   "source": [
    "y_pred = param_tuned_knn(X_train_stat2, y_train_stat2, X_test_stat2, y_test_stat2)\n",
    "\n",
    "acc_pramtuned_knn_stat2 = metrics.accuracy_score(y_test_stat2, y_pred)\n",
    "pre_pramtuned_knn_stat2 = metrics.precision_score(y_test_stat2, y_pred)\n",
    "rec_pramtuned_knn_stat2 = metrics.recall_score(y_test_stat2, y_pred)\n",
    "\n",
    "score_df = score_df.append({'Classifier' : 'KNN Param tuned', 'Stategy' : 'Stategy 2', 'Accuracy' : acc_pramtuned_knn_stat2, 'Precision': pre_pramtuned_knn_stat2,'Recall': rec_pramtuned_knn_stat2}, \n",
    "                ignore_index = True)"
   ]
  },
  {
   "cell_type": "code",
   "execution_count": 50,
   "id": "a76b72b9",
   "metadata": {},
   "outputs": [
    {
     "name": "stdout",
     "output_type": "stream",
     "text": [
      "\n",
      "\n",
      "===== confusion matrix =====\n",
      "[[167 261]\n",
      " [199 283]]\n",
      "\n",
      "\n",
      "===== Accuracy, Precision, Recall =====\n",
      "Accuracy: 0.4945054945054945\n",
      "Precision: 0.5202205882352942\n",
      "Recall: 0.5871369294605809\n",
      "\n",
      "\n",
      "=================== classification report ===================\n",
      "              precision    recall  f1-score   support\n",
      "\n",
      "           0       0.46      0.39      0.42       428\n",
      "           1       0.52      0.59      0.55       482\n",
      "\n",
      "    accuracy                           0.49       910\n",
      "   macro avg       0.49      0.49      0.49       910\n",
      "weighted avg       0.49      0.49      0.49       910\n",
      "\n"
     ]
    }
   ],
   "source": [
    "y_pred_stat1 = param_tuned_knn(X_train, y_train, X_test, y_test)\n",
    "\n",
    "acc_pramtuned_knn_stat1 = metrics.accuracy_score(y_test, y_pred_stat1)\n",
    "pre_pramtuned_knn_stat1 = metrics.precision_score(y_test, y_pred_stat1)\n",
    "rec_pramtuned_knn_stat1 = metrics.recall_score(y_test, y_pred_stat1)\n",
    "\n",
    "score_df = score_df.append({'Classifier' : 'KNN Param tuned', 'Stategy' : 'Stategy 1', 'Accuracy' : acc_pramtuned_knn_stat1, 'Precision': pre_pramtuned_knn_stat1,'Recall': rec_pramtuned_knn_stat1}, \n",
    "                ignore_index = True)\n"
   ]
  },
  {
   "cell_type": "markdown",
   "id": "5e38ceab",
   "metadata": {},
   "source": [
    "### 2) XGBoost"
   ]
  },
  {
   "cell_type": "code",
   "execution_count": 51,
   "id": "d039536d",
   "metadata": {},
   "outputs": [],
   "source": [
    "from scipy import stats\n",
    "param_dist = {'n_estimators': stats.randint(550, 1200),\n",
    "              'learning_rate': stats.uniform(0.01, 0.2),\n",
    "              'subsample': stats.uniform(0.7, 0.3),\n",
    "              'max_depth': [5, 6, 7, 8, 9, 10],\n",
    "              'colsample_bytree': stats.uniform(0.5, 0.5),\n",
    "              'min_child_weight': [2, 3, 4, 5]\n",
    "             }\n",
    "\n",
    "xgbc = XGBClassifier(use_label_encoder=False)\n",
    "\n"
   ]
  },
  {
   "cell_type": "code",
   "execution_count": 52,
   "id": "30a6b104",
   "metadata": {},
   "outputs": [],
   "source": [
    "def param_tuned_xgb(xgbc, X_train_stat2, y_train_stat2, X_test_stat2, y_test_stat2):\n",
    "    xgbc_paramtuned = RandomizedSearchCV(\n",
    "        estimator=xgbc,\n",
    "        param_distributions=param_dist,\n",
    "        n_iter=10,\n",
    "        cv=3,\n",
    "        verbose=2,\n",
    "        random_state=15,\n",
    "        n_jobs = -1\n",
    "    )\n",
    "\n",
    "    xgbc_paramtuned.fit(X_train_stat2, y_train_stat2)\n",
    "   \n",
    "    y_pred = xgbc_paramtuned.best_estimator_.predict(X_test_stat2)\n",
    "\n",
    "    print(\"\\n\\n===== confusion matrix =====\")\n",
    "    cnf_matrix = metrics.confusion_matrix(y_test_stat2, y_pred)\n",
    "    print(cnf_matrix)\n",
    "   \n",
    "    model_accuracy_precision_recall(y_test_stat2, y_pred)\n",
    "    print(\"\\n\\n=================== classification report ===================\")\n",
    "    print(classification_report(y_test_stat2, y_pred))\n",
    "    \n",
    "    #store_modelscore('GB', Stategy, y_test, y_pred)    \n",
    "    return y_pred\n",
    "    "
   ]
  },
  {
   "cell_type": "code",
   "execution_count": 53,
   "id": "e161296b",
   "metadata": {},
   "outputs": [
    {
     "name": "stdout",
     "output_type": "stream",
     "text": [
      "Fitting 3 folds for each of 10 candidates, totalling 30 fits\n",
      "[16:57:56] WARNING: /opt/concourse/worker/volumes/live/7a2b9f41-3287-451b-6691-43e9a6c0910f/volume/xgboost-split_1619728204606/work/src/learner.cc:1061: Starting in XGBoost 1.3.0, the default evaluation metric used with the objective 'binary:logistic' was changed from 'error' to 'logloss'. Explicitly set eval_metric if you'd like to restore the old behavior.\n",
      "\n",
      "\n",
      "===== confusion matrix =====\n",
      "[[175 253]\n",
      " [209 273]]\n",
      "\n",
      "\n",
      "===== Accuracy, Precision, Recall =====\n",
      "Accuracy: 0.49230769230769234\n",
      "Precision: 0.5190114068441065\n",
      "Recall: 0.5663900414937759\n",
      "\n",
      "\n",
      "=================== classification report ===================\n",
      "              precision    recall  f1-score   support\n",
      "\n",
      "           0       0.46      0.41      0.43       428\n",
      "           1       0.52      0.57      0.54       482\n",
      "\n",
      "    accuracy                           0.49       910\n",
      "   macro avg       0.49      0.49      0.49       910\n",
      "weighted avg       0.49      0.49      0.49       910\n",
      "\n"
     ]
    }
   ],
   "source": [
    "y_pred_stat1 = param_tuned_xgb(xgbc, X_train, y_train, X_test, y_test)\n",
    "\n",
    "acc_pramtuned_xgb_stat1 = metrics.accuracy_score(y_test, y_pred_stat1)\n",
    "pre_pramtuned_xgb_stat1 = metrics.precision_score(y_test, y_pred_stat1)\n",
    "rec_pramtuned_xgb_stat1 = metrics.recall_score(y_test, y_pred_stat1)\n",
    "\n",
    "score_df = score_df.append({'Classifier' : 'XGB Param tuned', 'Stategy' : 'Stategy 1', 'Accuracy' : acc_pramtuned_xgb_stat1, 'Precision': pre_pramtuned_xgb_stat1,'Recall': rec_pramtuned_xgb_stat1}, \n",
    "                ignore_index = True)"
   ]
  },
  {
   "cell_type": "code",
   "execution_count": 54,
   "id": "cbac1807",
   "metadata": {},
   "outputs": [
    {
     "name": "stdout",
     "output_type": "stream",
     "text": [
      "Fitting 3 folds for each of 10 candidates, totalling 30 fits\n",
      "[16:58:18] WARNING: /opt/concourse/worker/volumes/live/7a2b9f41-3287-451b-6691-43e9a6c0910f/volume/xgboost-split_1619728204606/work/src/learner.cc:1061: Starting in XGBoost 1.3.0, the default evaluation metric used with the objective 'binary:logistic' was changed from 'error' to 'logloss'. Explicitly set eval_metric if you'd like to restore the old behavior.\n",
      "\n",
      "\n",
      "===== confusion matrix =====\n",
      "[[462   0]\n",
      " [  1 104]]\n",
      "\n",
      "\n",
      "===== Accuracy, Precision, Recall =====\n",
      "Accuracy: 0.9982363315696648\n",
      "Precision: 1.0\n",
      "Recall: 0.9904761904761905\n",
      "\n",
      "\n",
      "=================== classification report ===================\n",
      "              precision    recall  f1-score   support\n",
      "\n",
      "           0       1.00      1.00      1.00       462\n",
      "           1       1.00      0.99      1.00       105\n",
      "\n",
      "    accuracy                           1.00       567\n",
      "   macro avg       1.00      1.00      1.00       567\n",
      "weighted avg       1.00      1.00      1.00       567\n",
      "\n"
     ]
    }
   ],
   "source": [
    "y_pred_stat2 = param_tuned_xgb(xgbc, X_train_stat2, y_train_stat2, X_test_stat2, y_test_stat2)\n",
    "\n",
    "acc_pramtuned_xgb_stat2 = metrics.accuracy_score(y_test_stat2, y_pred_stat2)\n",
    "pre_pramtuned_xgb_stat2 = metrics.precision_score(y_test_stat2, y_pred_stat2)\n",
    "rec_pramtuned_xgb_stat2 = metrics.recall_score(y_test_stat2, y_pred_stat2)\n",
    "\n",
    "score_df = score_df.append({'Classifier' : 'XGB Param tuned', 'Stategy' : 'Stategy 2', 'Accuracy' : acc_pramtuned_xgb_stat2, 'Precision': pre_pramtuned_xgb_stat2,'Recall': rec_pramtuned_xgb_stat2}, \n",
    "                ignore_index = True)\n"
   ]
  },
  {
   "cell_type": "markdown",
   "id": "41c884c7",
   "metadata": {},
   "source": [
    "### Model Comparision "
   ]
  },
  {
   "cell_type": "code",
   "execution_count": 55,
   "id": "076e8808",
   "metadata": {},
   "outputs": [
    {
     "data": {
      "text/html": [
       "<div>\n",
       "<style scoped>\n",
       "    .dataframe tbody tr th:only-of-type {\n",
       "        vertical-align: middle;\n",
       "    }\n",
       "\n",
       "    .dataframe tbody tr th {\n",
       "        vertical-align: top;\n",
       "    }\n",
       "\n",
       "    .dataframe thead th {\n",
       "        text-align: right;\n",
       "    }\n",
       "</style>\n",
       "<table border=\"1\" class=\"dataframe\">\n",
       "  <thead>\n",
       "    <tr style=\"text-align: right;\">\n",
       "      <th></th>\n",
       "      <th>Classifier</th>\n",
       "      <th>Stategy</th>\n",
       "      <th>Accuracy</th>\n",
       "      <th>Precision</th>\n",
       "      <th>Recall</th>\n",
       "    </tr>\n",
       "  </thead>\n",
       "  <tbody>\n",
       "    <tr>\n",
       "      <th>9</th>\n",
       "      <td>XGBoost</td>\n",
       "      <td>Stategy 2</td>\n",
       "      <td>0.998236</td>\n",
       "      <td>0.990566</td>\n",
       "      <td>1.000000</td>\n",
       "    </tr>\n",
       "    <tr>\n",
       "      <th>13</th>\n",
       "      <td>XGB Param tuned</td>\n",
       "      <td>Stategy 2</td>\n",
       "      <td>0.998236</td>\n",
       "      <td>1.000000</td>\n",
       "      <td>0.990476</td>\n",
       "    </tr>\n",
       "    <tr>\n",
       "      <th>6</th>\n",
       "      <td>RF</td>\n",
       "      <td>Stategy 2</td>\n",
       "      <td>0.994709</td>\n",
       "      <td>1.000000</td>\n",
       "      <td>0.971429</td>\n",
       "    </tr>\n",
       "    <tr>\n",
       "      <th>7</th>\n",
       "      <td>GB</td>\n",
       "      <td>Stategy 2</td>\n",
       "      <td>0.992945</td>\n",
       "      <td>0.963303</td>\n",
       "      <td>1.000000</td>\n",
       "    </tr>\n",
       "    <tr>\n",
       "      <th>8</th>\n",
       "      <td>SVM</td>\n",
       "      <td>Stategy 2</td>\n",
       "      <td>0.992945</td>\n",
       "      <td>0.963303</td>\n",
       "      <td>1.000000</td>\n",
       "    </tr>\n",
       "    <tr>\n",
       "      <th>10</th>\n",
       "      <td>KNN Param tuned</td>\n",
       "      <td>Stategy 2</td>\n",
       "      <td>0.807760</td>\n",
       "      <td>0.388889</td>\n",
       "      <td>0.066667</td>\n",
       "    </tr>\n",
       "    <tr>\n",
       "      <th>5</th>\n",
       "      <td>KNN</td>\n",
       "      <td>Stategy 2</td>\n",
       "      <td>0.795414</td>\n",
       "      <td>0.260870</td>\n",
       "      <td>0.057143</td>\n",
       "    </tr>\n",
       "    <tr>\n",
       "      <th>2</th>\n",
       "      <td>GB</td>\n",
       "      <td>Stategy 1</td>\n",
       "      <td>0.518681</td>\n",
       "      <td>0.534810</td>\n",
       "      <td>0.701245</td>\n",
       "    </tr>\n",
       "    <tr>\n",
       "      <th>0</th>\n",
       "      <td>KNN</td>\n",
       "      <td>Stategy 1</td>\n",
       "      <td>0.510989</td>\n",
       "      <td>0.536204</td>\n",
       "      <td>0.568465</td>\n",
       "    </tr>\n",
       "    <tr>\n",
       "      <th>3</th>\n",
       "      <td>SVM</td>\n",
       "      <td>Stategy 1</td>\n",
       "      <td>0.509890</td>\n",
       "      <td>0.528754</td>\n",
       "      <td>0.686722</td>\n",
       "    </tr>\n",
       "    <tr>\n",
       "      <th>4</th>\n",
       "      <td>XGBoost</td>\n",
       "      <td>Stategy 1</td>\n",
       "      <td>0.509890</td>\n",
       "      <td>0.533708</td>\n",
       "      <td>0.591286</td>\n",
       "    </tr>\n",
       "    <tr>\n",
       "      <th>1</th>\n",
       "      <td>RF</td>\n",
       "      <td>Stategy 1</td>\n",
       "      <td>0.502198</td>\n",
       "      <td>0.527619</td>\n",
       "      <td>0.574689</td>\n",
       "    </tr>\n",
       "    <tr>\n",
       "      <th>11</th>\n",
       "      <td>KNN Param tuned</td>\n",
       "      <td>Stategy 1</td>\n",
       "      <td>0.494505</td>\n",
       "      <td>0.520221</td>\n",
       "      <td>0.587137</td>\n",
       "    </tr>\n",
       "    <tr>\n",
       "      <th>12</th>\n",
       "      <td>XGB Param tuned</td>\n",
       "      <td>Stategy 1</td>\n",
       "      <td>0.492308</td>\n",
       "      <td>0.519011</td>\n",
       "      <td>0.566390</td>\n",
       "    </tr>\n",
       "  </tbody>\n",
       "</table>\n",
       "</div>"
      ],
      "text/plain": [
       "         Classifier    Stategy  Accuracy  Precision    Recall\n",
       "9           XGBoost  Stategy 2  0.998236   0.990566  1.000000\n",
       "13  XGB Param tuned  Stategy 2  0.998236   1.000000  0.990476\n",
       "6                RF  Stategy 2  0.994709   1.000000  0.971429\n",
       "7                GB  Stategy 2  0.992945   0.963303  1.000000\n",
       "8               SVM  Stategy 2  0.992945   0.963303  1.000000\n",
       "10  KNN Param tuned  Stategy 2  0.807760   0.388889  0.066667\n",
       "5               KNN  Stategy 2  0.795414   0.260870  0.057143\n",
       "2                GB  Stategy 1  0.518681   0.534810  0.701245\n",
       "0               KNN  Stategy 1  0.510989   0.536204  0.568465\n",
       "3               SVM  Stategy 1  0.509890   0.528754  0.686722\n",
       "4           XGBoost  Stategy 1  0.509890   0.533708  0.591286\n",
       "1                RF  Stategy 1  0.502198   0.527619  0.574689\n",
       "11  KNN Param tuned  Stategy 1  0.494505   0.520221  0.587137\n",
       "12  XGB Param tuned  Stategy 1  0.492308   0.519011  0.566390"
      ]
     },
     "execution_count": 55,
     "metadata": {},
     "output_type": "execute_result"
    }
   ],
   "source": [
    "## Score\n",
    "score_df\n",
    "score_df.sort_values(by='Accuracy', ascending=False)"
   ]
  },
  {
   "cell_type": "code",
   "execution_count": 56,
   "id": "f22c959f",
   "metadata": {
    "scrolled": false
   },
   "outputs": [
    {
     "data": {
      "image/png": "[encoded data removed]",
      "text/plain": [
       "<Figure size 1440x504 with 2 Axes>"
      ]
     },
     "metadata": {},
     "output_type": "display_data"
    }
   ],
   "source": [
    "# Intitialize figure with two plots\n",
    "fig, (ax1, ax2) = plt.subplots(1, 2)\n",
    "\n",
    "\n",
    "fig.suptitle('Model Comparison', fontsize=16, fontweight='bold')\n",
    "fig.set_figheight(7)\n",
    "fig.set_figwidth(20)\n",
    "fig.set_facecolor('white')\n",
    "\n",
    "# First plot\n",
    "## set bar size\n",
    "barWidth = 0.1\n",
    "\n",
    "knearest_score = [acc_knn_stat1, pre_knn_stat1, rec_knn_stat1]  \n",
    "random_forest_score = [acc_rf_stat1, pre_rf_stat1, rec_rf_stat1]  \n",
    "gradient_booster_score = [acc_gb_stat1, pre_gb_stat1, rec_gb_stat1] \n",
    "svm_score = [acc_svm_stat1, pre_svm_stat1, rec_svm_stat1] \n",
    "xgboost_score = [acc_xgb_stat1, pre_xgb_stat1, rec_xgb_stat1] \n",
    "\n",
    "knn_paramtuned_score1 = [acc_pramtuned_knn_stat1, pre_pramtuned_knn_stat1, rec_pramtuned_knn_stat1] \n",
    "xgboost_paramtuned_score1 = [acc_pramtuned_xgb_stat1, pre_pramtuned_xgb_stat1, rec_pramtuned_xgb_stat1]  \n",
    "\n",
    "\n",
    "## Set position of bar on X axis\n",
    "r1 = np.arange(len(knearest_score))\n",
    "r2 = [x + barWidth for x in r1]\n",
    "r3 = [x + barWidth for x in r2]\n",
    "r4 = [x + barWidth for x in r3]\n",
    "r5 = [x + barWidth for x in r4]\n",
    "r6 = [x + barWidth for x in r5]\n",
    "r7 = [x + barWidth for x in r6]\n",
    "\n",
    "\n",
    "## Make the plot\n",
    "ax1.bar(r1, knearest_score, width=barWidth, edgecolor='white', label='K-Nearest Neighbors')\n",
    "ax1.bar(r2, random_forest_score, width=barWidth, edgecolor='white', label='Random Forest')\n",
    "ax1.bar(r3, gradient_booster_score, width=barWidth, edgecolor='white', label='Gradient Booster')\n",
    "ax1.bar(r4, svm_score, width=barWidth, edgecolor='white', label='Support Vector Machines')\n",
    "ax1.bar(r5, xgboost_score, width=barWidth, edgecolor='white', label='XGBoost')\n",
    "\n",
    "ax1.bar(r6, knn_paramtuned_score1, width=barWidth, edgecolor='white', label='Parameterised KNN')\n",
    "ax1.bar(r7, xgboost_paramtuned_score1, width=barWidth, edgecolor='white', label='XGBoost ParamTuned')\n",
    "\n",
    "\n",
    "\n",
    "## Configure x and y axis\n",
    "ax1.set_xlabel('Metrics', fontweight='bold')\n",
    "labels = ['Accuracy', 'Precision', 'Recall']\n",
    "ax1.set_xticks([r + (barWidth * 1.5) for r in range(len(knearest_score))], )\n",
    "ax1.set_xticklabels(labels)\n",
    "ax1.set_ylabel('Score', fontweight='bold')\n",
    "ax1.set_ylim(0, 1)\n",
    "\n",
    "## Create legend & title\n",
    "ax1.set_title('Model Evaluation Metrics for stategy 1', fontsize=14, fontweight='bold')\n",
    "ax1.legend()\n",
    "\n",
    "\n",
    "fig.suptitle('Model Comparison', fontsize=16, fontweight='bold')\n",
    "fig.set_figheight(7)\n",
    "fig.set_figwidth(20)\n",
    "fig.set_facecolor('white')\n",
    "\n",
    "# Second plot\n",
    "## set bar size\n",
    "barWidth = 0.1\n",
    "\n",
    "knearest_score2 = [acc_knn_stat2, pre_knn_stat2, rec_knn_stat2]  \n",
    "random_forest_score2 = [acc_rf_stat2, pre_rf_stat2, rec_rf_stat2]  \n",
    "gradient_booster_score2 = [acc_gb_stat2, pre_gb_stat2, rec_gb_stat2] \n",
    "svm_score2 = [acc_svm_stat2, pre_svm_stat2, rec_svm_stat2] \n",
    "xgboost_score2 = [acc_xgb_stat2, pre_xgb_stat2, rec_xgb_stat2] \n",
    "\n",
    "knn_paramtuned_score2 = [acc_pramtuned_knn_stat2, pre_pramtuned_knn_stat2, rec_pramtuned_knn_stat2] \n",
    "xgboost_paramtuned_score2 = [acc_pramtuned_xgb_stat2, pre_pramtuned_xgb_stat2, rec_pramtuned_xgb_stat2]  \n",
    "\n",
    "\n",
    "## Set position of bar on X axis\n",
    "p1 = np.arange(len(knearest_score2))\n",
    "p2 = [x + barWidth for x in p1]\n",
    "p3 = [x + barWidth for x in p2]\n",
    "p4 = [x + barWidth for x in p3]\n",
    "p5 = [x + barWidth for x in p4]\n",
    "p6 = [x + barWidth for x in p5]\n",
    "p7 = [x + barWidth for x in p6]\n",
    "\n",
    "\n",
    "\n",
    "\n",
    "## Make the plot\n",
    "ax2.bar(p1, knearest_score2, width=barWidth, edgecolor='white', label='K-Nearest Neighbors')\n",
    "ax2.bar(p2, random_forest_score2, width=barWidth, edgecolor='white', label='Random Forest')\n",
    "ax2.bar(p3, gradient_booster_score2, width=barWidth, edgecolor='white', label='Gradient Booster')\n",
    "ax2.bar(p4, svm_score2, width=barWidth, edgecolor='white', label='Support Vector Machines')\n",
    "ax2.bar(p5, xgboost_score2, width=barWidth, edgecolor='white', label='XGBoost')\n",
    "\n",
    "ax2.bar(p6, knn_paramtuned_score2, width=barWidth, edgecolor='white', label='Parameterised KNN')\n",
    "ax2.bar(p7, xgboost_paramtuned_score2, width=barWidth, edgecolor='white', label='XGBoost ParamTuned')\n",
    "\n",
    "\n",
    "## Configure x and y axis\n",
    "ax2.set_xlabel('Metrics', fontweight='bold')\n",
    "labels = ['Accuracy', 'Precision', 'Recall']\n",
    "ax2.set_xticks([r + (barWidth * 1.5) for r in range(len(knearest_score2))], )\n",
    "ax2.set_xticklabels(labels)\n",
    "ax2.set_ylabel('Score', fontweight='bold')\n",
    "ax2.set_ylim(0, 1)\n",
    "\n",
    "## Create legend & title\n",
    "ax2.set_title('Model Evaluation Metrics for stategy 2', fontsize=14, fontweight='bold')\n",
    "ax2.legend()\n",
    "\n",
    "plt.show()\n"
   ]
  },
  {
   "cell_type": "markdown",
   "id": "015bb880",
   "metadata": {},
   "source": [
    "### Thank You😊"
   ]
  }
 ],
 "metadata": {
  "kernelspec": {
   "display_name": "Python 3 (ipykernel)",
   "language": "python",
   "name": "python3"
  },
  "language_info": {
   "codemirror_mode": {
    "name": "ipython",
    "version": 3
   },
   "file_extension": ".py",
   "mimetype": "text/x-python",
   "name": "python",
   "nbconvert_exporter": "python",
   "pygments_lexer": "ipython3",
   "version": "3.8.12"
  }
 },
 "nbformat": 4,
 "nbformat_minor": 5
}
